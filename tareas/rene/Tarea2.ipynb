{
 "cells": [
  {
   "cell_type": "markdown",
   "metadata": {
    "deletable": true,
    "editable": true
   },
   "source": [
    "# Tarea 2: Derivación numérica"
   ]
  },
  {
   "cell_type": "markdown",
   "metadata": {
    "deletable": true,
    "editable": true
   },
   "source": [
    "Fecha de envío del PR inicial: **martes 14 de marzo**\n",
    "\n",
    "Fecha de aceptación del PR: **lunes 20 de marzo**"
   ]
  },
  {
   "cell_type": "markdown",
   "metadata": {
    "deletable": true,
    "editable": true
   },
   "source": [
    "## Ejercicio 1: Derivada *derecha*\n",
    "\n",
    "(a) Definan una función `derivada_derecha` que calcule *numéricamente* la derivada de una función $f(x)$ en una variable (a priori arbitaria) que se debe introducir como argumento, en un punto $x_0$ arbitrario, pero que por default lo hace en  $x_0=0.0$. \n",
    "\n",
    "Para esto, utilicen la aproximación de la derivada, que se basa en su definición:\n",
    "\n",
    "\\begin{equation}\n",
    "f'(x_0) \\approx \\frac{\\Delta f_+}{\\Delta x} = \\frac{f(x_0+h)-f(x_0)}{h},\n",
    "\\end{equation}\n",
    "\n",
    "lo que requiere la especificación de `h`. (Este método también se conoce por el nombre de *diferencias finitas*.)\n",
    "\n",
    "(b) A fin de simular el $\\lim_{h\\to 0}$, consideren distintos valores de $h$ que precisamente simulen dicho límite. Para cada valor de $h$ calculen el error absoluto del cálculo numérico (respecto al valor *exacto*, que deberán conocer analíticamente). \n",
    "\n",
    "Para ser concretos, prueben su implementación de `derivada_derecha` con la función de prueba $f(x) = 3x^3-2$, en $x_0=1$. Dibujen, como función de $h$, el error de su cálculo; usen escala logarítmica en ambos ejes. A partir de eso, ¿qué conclusión podemos sacar sobre *la convergencia* del cálculo numérico de la derivada, o sea, cómo nos acercamos al valor *exacto* de la deriva al considerar $lim_{h\\to 0}$? \n"
   ]
  },
  {
   "cell_type": "markdown",
   "metadata": {},
   "source": [
    "### INCISO (a)"
   ]
  },
  {
   "cell_type": "code",
   "execution_count": 1,
   "metadata": {
    "collapsed": false,
    "deletable": true,
    "editable": true
   },
   "outputs": [
    {
     "data": {
      "text/plain": [
       "df_derecha"
      ]
     },
     "execution_count": 1,
     "metadata": {},
     "output_type": "execute_result"
    }
   ],
   "source": [
    "\"\"\"\n",
    " df_derecha()\n",
    "\n",
    "Este algoritmo calcula la derivada por la derecha de una función para un una diferencia h dada en el punto \\$x_0\\$.\n",
    "\"\"\"\n",
    "function df_derecha(f, x0, h)\n",
    "    df=(f(x0+h)-f(x0))/h\n",
    "    return df\n",
    "end"
   ]
  },
  {
   "cell_type": "code",
   "execution_count": 2,
   "metadata": {
    "collapsed": false
   },
   "outputs": [
    {
     "data": {
      "text/markdown": [
       "df_derecha()\n",
       "\n",
       "Este algoritmo calcula la derivada por la derecha de una función para un una diferencia h dada en el punto $x_0$.\n"
      ],
      "text/plain": [
       "df_derecha()\n",
       "\n",
       "Este algoritmo calcula la derivada por la derecha de una función para un una diferencia h dada en el punto $x_0$.\n"
      ]
     },
     "execution_count": 2,
     "metadata": {},
     "output_type": "execute_result"
    }
   ],
   "source": [
    "?df_derecha()"
   ]
  },
  {
   "cell_type": "code",
   "execution_count": 3,
   "metadata": {
    "collapsed": false,
    "deletable": true,
    "editable": true,
    "inputHidden": false,
    "outputHidden": false
   },
   "outputs": [
    {
     "data": {
      "text/plain": [
       "6.0029296875"
      ]
     },
     "execution_count": 3,
     "metadata": {},
     "output_type": "execute_result"
    }
   ],
   "source": [
    "df_derecha(x->3x^2-2,1.0,2.0^-10)"
   ]
  },
  {
   "cell_type": "markdown",
   "metadata": {},
   "source": [
    "### INCISO (b)"
   ]
  },
  {
   "cell_type": "code",
   "execution_count": 4,
   "metadata": {
    "collapsed": false
   },
   "outputs": [
    {
     "data": {
      "text/plain": [
       "f (generic function with 1 method)"
      ]
     },
     "execution_count": 4,
     "metadata": {},
     "output_type": "execute_result"
    }
   ],
   "source": [
    "f(x)=3x^2-2"
   ]
  },
  {
   "cell_type": "code",
   "execution_count": 5,
   "metadata": {
    "collapsed": false
   },
   "outputs": [
    {
     "data": {
      "text/plain": [
       "df_exac (generic function with 1 method)"
      ]
     },
     "execution_count": 5,
     "metadata": {},
     "output_type": "execute_result"
    }
   ],
   "source": [
    "df_exac(x)=6x"
   ]
  },
  {
   "cell_type": "code",
   "execution_count": 6,
   "metadata": {
    "collapsed": false
   },
   "outputs": [
    {
     "data": {
      "text/plain": [
       "errabs"
      ]
     },
     "execution_count": 6,
     "metadata": {},
     "output_type": "execute_result"
    }
   ],
   "source": [
    "\"\"\"\n",
    " errabs()\n",
    "\n",
    "Esta función crea los vectores x(valores de h) y y(valores de la diferencia entre la derivada derecha y exacta).\n",
    "\"\"\"\n",
    "function errabs(f,x_0,h,n)\n",
    "    for i in 1:n\n",
    "        x[i]=h\n",
    "        y[i]=abs(df_exac(x_0)-df_derecha(f,x_0,h))\n",
    "        h=h/2.0\n",
    "    end    \n",
    "end"
   ]
  },
  {
   "cell_type": "code",
   "execution_count": 7,
   "metadata": {
    "collapsed": true
   },
   "outputs": [],
   "source": [
    "using PyPlot"
   ]
  },
  {
   "cell_type": "code",
   "execution_count": 8,
   "metadata": {
    "collapsed": false
   },
   "outputs": [
    {
     "data": {
      "image/png": "[encoded data removed]",
      "text/plain": [
       "PyPlot.Figure(PyObject <matplotlib.figure.Figure object at 0x7fc5b071d990>)"
      ]
     },
     "metadata": {},
     "output_type": "display_data"
    },
    {
     "data": {
      "text/plain": [
       "PyObject <matplotlib.text.Text object at 0x7fc5a0fb1710>"
      ]
     },
     "execution_count": 8,
     "metadata": {},
     "output_type": "execute_result"
    }
   ],
   "source": [
    "n=50\n",
    "x_0=1.0\n",
    "h=0.5\n",
    "x=[i=0.0 for i=1:n]\n",
    "y=[i=0.0 for i=1:n]\n",
    "errabs(f,x_0,h,n)\n",
    "\n",
    "figure(figsize=(6,4)) # este comando define el tamaño de la figura\n",
    "plot(x,y)    # este comando pinta las componentes \"y\"(el error) ; \n",
    "             # en \"x\" se expresa el tamño de h\n",
    "           # Los vectores *tienen* que tener el mismo número de elementos\n",
    "title(L\"Gráfica 1. Error absoluto |df_exac-df_derecha| contra $h$\", fontsize=10)\n",
    "xlabel(L\"valores de $h$\")\n",
    "ylabel(L\"valores de $|df_{exac}-df_{derecha}|$\")"
   ]
  },
  {
   "cell_type": "markdown",
   "metadata": {},
   "source": [
    "*A partir de la gráfica 1, la conclusión es que al tomar valores de $h$ cada vez más cercanos al cero, es decir \n",
    "$lim_{h\\to 0}$ el error es mínimo.*"
   ]
  },
  {
   "cell_type": "markdown",
   "metadata": {
    "deletable": true,
    "editable": true
   },
   "source": [
    "## Ejercicio 2: Derivada simétrica\n",
    "\n",
    "Repitan el ejercicio anterior usando la aproximación que se basa en la versión *simétrica* de la definición de la derivada, es decir:\n",
    "\n",
    "\\begin{equation}\n",
    "f'(x_0) \\approx \\frac{ \\Delta f_{sym}}{\\Delta x} = \\lim_{h\\to 0} \\frac{f(x_0+h)-f(x_0-h)}{2h}.\n",
    "\\end{equation}\n",
    "\n",
    "¿Qué pueden concluir respecto a la convergencia? ¿Cómo se compara este algoritmo con el del ejercicio anterior?"
   ]
  },
  {
   "cell_type": "code",
   "execution_count": 9,
   "metadata": {
    "collapsed": false,
    "deletable": true,
    "editable": true
   },
   "outputs": [
    {
     "data": {
      "text/plain": [
       "df_simetrica"
      ]
     },
     "execution_count": 9,
     "metadata": {},
     "output_type": "execute_result"
    }
   ],
   "source": [
    "\"\"\"\n",
    " df_simetrica()\n",
    "\n",
    "Este algoritmo calcula la derivada simétrica de una función, es decir, para un una diferencia h \n",
    "adelante del punto \\$x_0\\$ y otra atras.\n",
    "\"\"\"\n",
    "function df_simetrica(f, x0, h)\n",
    "    df=(f(x0+h)-f(x0-h))/(2.0*h)\n",
    "    return df\n",
    "end"
   ]
  },
  {
   "cell_type": "code",
   "execution_count": 10,
   "metadata": {
    "collapsed": false
   },
   "outputs": [
    {
     "data": {
      "text/markdown": [
       "df_simetrica()\n",
       "\n",
       "Este algoritmo calcula la derivada simétrica de una función, es decir, para un una diferencia h  adelante del punto $x_0$ y otra atras.\n"
      ],
      "text/plain": [
       "df_simetrica()\n",
       "\n",
       "Este algoritmo calcula la derivada simétrica de una función, es decir, para un una diferencia h  adelante del punto $x_0$ y otra atras.\n"
      ]
     },
     "execution_count": 10,
     "metadata": {},
     "output_type": "execute_result"
    }
   ],
   "source": [
    "?df_simetrica()"
   ]
  },
  {
   "cell_type": "code",
   "execution_count": 11,
   "metadata": {
    "collapsed": false
   },
   "outputs": [
    {
     "data": {
      "text/plain": [
       "3.0000000000000027"
      ]
     },
     "execution_count": 11,
     "metadata": {},
     "output_type": "execute_result"
    }
   ],
   "source": [
    "df_simetrica(f, 0.5, 0.001)"
   ]
  },
  {
   "cell_type": "code",
   "execution_count": 12,
   "metadata": {
    "collapsed": false
   },
   "outputs": [
    {
     "data": {
      "text/plain": [
       "errabs2"
      ]
     },
     "execution_count": 12,
     "metadata": {},
     "output_type": "execute_result"
    }
   ],
   "source": [
    "\"\"\"\n",
    " errabs2()\n",
    "\n",
    "Esta función crea los vectores x(valores de h) y y(valores de la diferencia entre la derivada simétrica y exacta).\n",
    "\"\"\"\n",
    "function errabs2(f,x_0,h,n)\n",
    "    for i in 1:n\n",
    "        x[i]=h\n",
    "        z[i]=abs(df_exac(x_0)-df_simetrica(f,x_0,h))\n",
    "        h=h/2.0\n",
    "    end    \n",
    "end"
   ]
  },
  {
   "cell_type": "code",
   "execution_count": 13,
   "metadata": {
    "collapsed": false
   },
   "outputs": [
    {
     "data": {
      "image/png": "[encoded data removed]",
      "text/plain": [
       "PyPlot.Figure(PyObject <matplotlib.figure.Figure object at 0x7fc5a0feccd0>)"
      ]
     },
     "metadata": {},
     "output_type": "display_data"
    },
    {
     "data": {
      "text/plain": [
       "PyObject <matplotlib.text.Text object at 0x7fc5952d1ed0>"
      ]
     },
     "execution_count": 13,
     "metadata": {},
     "output_type": "execute_result"
    }
   ],
   "source": [
    "n=50\n",
    "x_0=1.0\n",
    "h=0.5\n",
    "x=[i=0.0 for i=1:n]\n",
    "z=[i=0.0 for i=1:n]\n",
    "errabs2(f,x_0,h,n)\n",
    "\n",
    "figure(figsize=(6,4)) # este comando define el tamaño de la figura\n",
    "plot(x,z)    # este comando pinta las componentes \"y\"(el error) ; \n",
    "             # en \"x\" se expresa el tamño de h\n",
    "           # Los vectores *tienen* que tener el mismo número de elementos\n",
    "title(L\"Gráfica 2. Error absoluto |df_exac-df_simetrica| contra $h$\", fontsize=10)\n",
    "xlabel(L\"valores de $h$\")\n",
    "ylabel(L\"valores de $|df_{exac}-df_{simetrica}|$\")"
   ]
  },
  {
   "cell_type": "markdown",
   "metadata": {},
   "source": [
    "*A partir de la gráfica 2, el error no existe al menos para esta función, es decir $f'(x)=\\frac{f(x_0+h)-f(x_0-h)}{2h}$.*"
   ]
  },
  {
   "cell_type": "code",
   "execution_count": 14,
   "metadata": {
    "collapsed": false
   },
   "outputs": [
    {
     "data": {
      "image/png": "[encoded data removed]",
      "text/plain": [
       "PyPlot.Figure(PyObject <matplotlib.figure.Figure object at 0x7fc595208cd0>)"
      ]
     },
     "metadata": {},
     "output_type": "display_data"
    },
    {
     "data": {
      "text/plain": [
       "PyObject <matplotlib.text.Text object at 0x7fc5952d1190>"
      ]
     },
     "execution_count": 14,
     "metadata": {},
     "output_type": "execute_result"
    }
   ],
   "source": [
    "figure(figsize=(6,4))\n",
    "plot(x,z)\n",
    "plot(x,y)\n",
    "title(L\"Gráfica 3. Representación de las gráficas 1 y 2\", fontsize=10)\n",
    "xlabel(L\"valores de $h$\")\n",
    "ylabel(L\"valores de $|df_{exac}-df_{simetrica}|$ y $|df_{exac}-df_{derecha}|$\")"
   ]
  },
  {
   "cell_type": "markdown",
   "metadata": {
    "deletable": true,
    "editable": true
   },
   "source": [
    "## Ejercicio 3: Derivada *compleja*"
   ]
  },
  {
   "cell_type": "markdown",
   "metadata": {
    "deletable": true,
    "editable": true
   },
   "source": [
    "Repitan el ejercicio anterior considerando ahora que el incremento de la variable independiente es infinitesimal e *imaginario*. Esto es, nos basaremos en la definición de la derivada dada por:\n",
    "\n",
    "\\begin{equation}\n",
    "f'(x_0) \\approx \\frac{\\Delta f_{cmplx}(x_0)}{\\Delta x} = \\Im\\Big(\\frac{f(x_0+ i h)}{h}\\Big).\n",
    "\\end{equation}\n"
   ]
  },
  {
   "cell_type": "markdown",
   "metadata": {
    "collapsed": true,
    "deletable": true,
    "editable": true
   },
   "source": [
    "La [derivada compleja](https://en.wikipedia.org/wiki/Complex_analysis) tiene la siguiente expresión\n",
    "\n",
    "$$f'(z_0)=\\lim_{z\\rightarrow z_0}\\frac{f(z)-f(z_0)}{z-z_0},\\hspace{.3cm}z\\in\\mathbb{C}\n",
    "\\hspace{.3cm}\\mbox{con}\\hspace{.3cm}z=x+iy$$\n",
    "\n",
    "**Teorema de Cauchy-Riemann.** *Sea $f:A\\subset\\mathbb{C}\\rightarrow\\mathbb{C}$ una función dada, con $A$ un conjunto abierto. Entonces $f'(z_0)$ existe si y sólo si $f$ es diferenciable en el sentido de las variables reales y en $(x_0,y_0)=z_0$, $u$ y $v$ satisfacen*\n",
    "$$\\frac{\\partial u}{\\partial x}=\\frac{\\partial v}{\\partial y}\\hspace{.5cm}\\mbox{y}\\hspace{.5cm}\n",
    "\\frac{\\partial u}{\\partial y}=-\\frac{\\partial v}{\\partial x}$$\n",
    "*(llamadas las **ecuaciones de Cauchy-Riemann**)).*\n",
    "\n",
    "Si $f'(z_0)$ existe, entonces\n",
    "$$f'(z_0)=\\frac{\\partial u}{\\partial x}+i\\frac{\\partial v}{\\partial x}=\\frac{\\partial f}{\\partial x}\n",
    "=\\frac{\\partial v}{\\partial y}-i\\frac{\\partial u}{\\partial y}\n",
    "=\\frac{1}{i}\\frac{\\partial f}{\\partial y}$$"
   ]
  },
  {
   "cell_type": "code",
   "execution_count": 48,
   "metadata": {
    "collapsed": false
   },
   "outputs": [
    {
     "data": {
      "text/plain": [
       "df_compleja"
      ]
     },
     "execution_count": 48,
     "metadata": {},
     "output_type": "execute_result"
    }
   ],
   "source": [
    "\"\"\"\n",
    " df_complejaderecha()\n",
    "\n",
    "Este algoritmo calcula la derivada compleja por la derecha de una función para un una diferencia \n",
    "h dada en el punto \\$z_0\\$.\n",
    "\"\"\"\n",
    "function df_compleja(fc,z0,h)\n",
    "    df=(fc(x+im*y)-fc(x0+im*y0))/(x+im*y-x0-im*y0)\n",
    "    return df\n",
    "end"
   ]
  },
  {
   "cell_type": "code",
   "execution_count": 43,
   "metadata": {
    "collapsed": false
   },
   "outputs": [
    {
     "name": "stderr",
     "output_type": "stream",
     "text": [
      "WARNING: Method definition df_complejaderecha(Any, Any, Any, Any, Any) in module Main at In[39]:8 overwritten at In[43]:8.\n",
      "\u001b[1m\u001b[31mWARNING: replacing docs for 'df_complejaderecha :: Tuple{Any,Any,Any,Any,Any}' in module 'Main'.\u001b[0m\n"
     ]
    },
    {
     "data": {
      "text/plain": [
       "df_complejaderecha"
      ]
     },
     "execution_count": 43,
     "metadata": {},
     "output_type": "execute_result"
    }
   ],
   "source": [
    "\"\"\"\n",
    " df_complejaderecha()\n",
    "\n",
    "Este algoritmo calcula la derivada compleja por la derecha de una función para un una diferencia \n",
    "h dada en el punto \\$z_0\\$.\n",
    "\"\"\"\n",
    "function df_complejaderecha(u,v,x0,y0,h)\n",
    "    du=df_simetrica(u, x0, h)\n",
    "    dv=df_simetrica(v, x0, h)\n",
    "    return du+im*dv\n",
    "end"
   ]
  },
  {
   "cell_type": "markdown",
   "metadata": {},
   "source": [
    "Si $f(z)=z^2$ entonces $f'(z)=2z$ \n",
    "\n",
    "$$f(z)=(x+iy)^2=x^2-y^2+2ixy=(x^2-y^2)+i(2xy)\\hspace{2cm}f'(z)=2z=2(x+iy)$$"
   ]
  },
  {
   "cell_type": "code",
   "execution_count": 44,
   "metadata": {
    "collapsed": false
   },
   "outputs": [
    {
     "name": "stderr",
     "output_type": "stream",
     "text": [
      "WARNING: Method definition u(Any) in module Main at In[29]:1 overwritten at In[44]:1.\n",
      "WARNING: Method definition v(Any) in module Main at In[29]:2 overwritten at In[44]:2.\n"
     ]
    },
    {
     "data": {
      "text/plain": [
       "v (generic function with 1 method)"
      ]
     },
     "execution_count": 44,
     "metadata": {},
     "output_type": "execute_result"
    }
   ],
   "source": [
    "u(x)=x^2#u(x,y)=x^2-y^2 como la derivo con respecto a x (y=cte)\n",
    "v(x)=2x*y0#v(x,y)=2xy como la derivo con respecto a y (x=cte)"
   ]
  },
  {
   "cell_type": "code",
   "execution_count": 45,
   "metadata": {
    "collapsed": false
   },
   "outputs": [
    {
     "ename": "LoadError",
     "evalue": "UndefVarError: y0 not defined",
     "output_type": "error",
     "traceback": [
      "UndefVarError: y0 not defined",
      "",
      " in v(::Float64) at ./In[44]:2",
      " in df_simetrica at ./In[9]:8 [inlined]",
      " in df_complejaderecha(::Function, ::Function, ::Float64, ::Float64, ::Float64) at ./In[43]:9"
     ]
    }
   ],
   "source": [
    "df_complejaderecha(u,v,1.0,1.0,.01)"
   ]
  },
  {
   "cell_type": "code",
   "execution_count": 46,
   "metadata": {
    "collapsed": false
   },
   "outputs": [
    {
     "data": {
      "text/plain": [
       "0.45508986056222733 + 1.09868411346781im"
      ]
     },
     "execution_count": 46,
     "metadata": {},
     "output_type": "execute_result"
    }
   ],
   "source": [
    "sqrt(complex(-1+1.0*im))"
   ]
  },
  {
   "cell_type": "code",
   "execution_count": 47,
   "metadata": {
    "collapsed": false
   },
   "outputs": [
    {
     "data": {
      "text/plain": [
       "2.100000000000002 + 2.0000000000000018im"
      ]
     },
     "execution_count": 47,
     "metadata": {},
     "output_type": "execute_result"
    }
   ],
   "source": [
    "df_derecha(u,1.0+1.0*im,.1)"
   ]
  },
  {
   "cell_type": "markdown",
   "metadata": {
    "deletable": true,
    "editable": true
   },
   "source": [
    "## Ejercicio 4: Preguntas"
   ]
  },
  {
   "cell_type": "markdown",
   "metadata": {
    "deletable": true,
    "editable": true
   },
   "source": [
    "- ¿Cuál de las definiciones anteriores es mejor en términos de dar el valor *más exacto* de la derivada? Den un argumento sólido de su conclusión en términos del tipo de convergencia hacia el valor exacto."
   ]
  },
  {
   "cell_type": "code",
   "execution_count": null,
   "metadata": {
    "collapsed": true,
    "deletable": true,
    "editable": true
   },
   "outputs": [],
   "source": []
  },
  {
   "cell_type": "markdown",
   "metadata": {
    "deletable": true,
    "editable": true
   },
   "source": [
    "- ¿Qué comportamiento mostrado por las derivadas en términos de $h$ nos incomoda más? ¿A qué atribuyen esto?"
   ]
  },
  {
   "cell_type": "code",
   "execution_count": null,
   "metadata": {
    "collapsed": true
   },
   "outputs": [],
   "source": []
  }
 ],
 "metadata": {
  "kernel_info": {
   "name": "julia-0.5"
  },
  "kernelspec": {
   "display_name": "Julia 0.5.0",
   "language": "julia",
   "name": "julia-0.5"
  },
  "language_info": {
   "file_extension": ".jl",
   "mimetype": "application/julia",
   "name": "julia",
   "version": "0.5.0"
  }
 },
 "nbformat": 4,
 "nbformat_minor": 0
}
