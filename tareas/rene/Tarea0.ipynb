{
 "cells": [
  {
   "cell_type": "markdown",
   "metadata": {},
   "source": [
    "# Tarea0"
   ]
  },
  {
   "cell_type": "markdown",
   "metadata": {},
   "source": [
    "Hagan **todo** el tutorial [Learn git branching](http://learngitbranching.js.org/). Tienen que enviar captura de pantalla (en formato `jpg`) de las *dos* pantallas (Main y Remote) donde se ve sus avances en el tutorial, con las \"palomitas\" de los niveles que consiguieron hacer."
   ]
  },
  {
   "cell_type": "markdown",
   "metadata": {},
   "source": [
    "Fecha de envío del PR (*pull request*) inicial: **12 de febrero**\n",
    "\n",
    "Fecha de aceptación del PR: **19 de febrero**\n"
   ]
  },
  {
   "cell_type": "markdown",
   "metadata": {
    "collapsed": true
   },
   "source": [
    "### Alumno René Mora Maya.\n",
    "\n",
    "Estos son mis **avances** sobre el tutorial [learn git branching](http://learngitbranching.js.org/)\n",
    "\n",
    "![palomitas](./imagen2.png)\n",
    "\n",
    "\n"
   ]
  },
  {
   "cell_type": "code",
   "execution_count": null,
   "metadata": {
    "collapsed": true
   },
   "outputs": [],
   "source": []
  }
 ],
 "metadata": {
  "kernelspec": {
   "display_name": "Julia 0.4.5",
   "language": "julia",
   "name": "julia-0.4"
  },
  "language_info": {
   "file_extension": ".jl",
   "mimetype": "application/julia",
   "name": "julia",
   "version": "0.4.5"
  }
 },
 "nbformat": 4,
 "nbformat_minor": 2
}
