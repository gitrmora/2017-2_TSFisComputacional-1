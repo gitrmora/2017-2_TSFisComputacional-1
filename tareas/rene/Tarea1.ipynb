{
 "cells": [
  {
   "cell_type": "markdown",
   "metadata": {},
   "source": [
    "# Tarea 1"
   ]
  },
  {
   "cell_type": "markdown",
   "metadata": {},
   "source": [
    "Fecha de envío del PR inicial: **26 de febrero**\n",
    "\n",
    "Fecha de aceptación del PR: **10 de marzo**\n"
   ]
  },
  {
   "cell_type": "markdown",
   "metadata": {},
   "source": [
    "## 1. Raíces de una ecuación de segundo grado\n",
    "\n",
    "Implementen en julia una función que devuelva las raíces de una ecuación de segundo grado general con coeficientes reales. La función debe ser estable según el tipo ([type-stable](http://docs.julialang.org/en/release-0.5/manual/faq/?highlight=type%20stability#what-does-type-stable-mean)), lo que significa que el tipo del resultado sólamente depende del tipo de las entradas. En particular, muestren que su función devuelve raíces consistentes para $a=1$, $b=1$, $c=10^{-17}$.\n",
    "\n",
    "La función debe estar documentada de manera apropiada, lo que significa que, al correr el Jupyter notebook de su tarea, la instrucción\n",
    "```julia\n",
    "? nombre_funcion\n",
    "```\n",
    "debe dar información apropiada.\n",
    "\n",
    "Incluyan cualquier comentario prudente del algoritmo que usan, ya sea en el notebook (usando markdown) o en la propia función incluyendo comentarios.\n"
   ]
  },
  {
   "cell_type": "markdown",
   "metadata": {},
   "source": [
    "## Ecuación de segundo grado\n",
    "La ecuación de 2 orden está dadá como\n",
    "$$ax^2+bx+c=0$$$$\\rightarrow x^2+\\frac{b}{a}x+\\frac{c}{a}=0\n",
    "$$$$\\rightarrow x^2+\\frac{b}{a}x+\\frac{b^2}{4a^2}=\\frac{b^2}{4a^2}-\\frac{c}{a}$$$$\n",
    "\\hspace{.3cm}\\rightarrow \\left(x+\\frac{b}{2a}\\right)^2=\\frac{b^2}{4a^2}-\\frac{4ac}{4a^2}$$\n",
    "\n",
    "$$\\rightarrow x+\\frac{b}{2a}=\\pm\\sqrt{\\frac{b^2-4ac}{4a^2}}=\\pm\\frac{\\sqrt{b^2-4ac}}{2a}$$\n",
    "$$\\therefore \\;\\;x=\\frac{-b\\pm\\sqrt{b^2-4ac}}{2a}$$\n",
    "$$\\left(x-\\frac{-b+\\sqrt{b^2-4ac}}{2a}\\right)\\left(x-\\frac{-b-\\sqrt{b^2-4ac}}{2a}\\right)=0$$\n",
    "\n",
    "Por otro lado\n",
    "$$x_1=\\frac{-b+\\sqrt{b^2-4ac}}{2a}\\left(\\frac{b+\\sqrt{b^2-4ac}}{b+\\sqrt{b^2-4ac}}\\right)\n",
    "=-\\frac{2c}{b+\\sqrt{b^2-4ac}}$$\n",
    "$$x_2=\\frac{-b-\\sqrt{b^2-4ac}}{2a}$$"
   ]
  },
  {
   "cell_type": "code",
   "execution_count": 1,
   "metadata": {
    "collapsed": false
   },
   "outputs": [
    {
     "data": {
      "text/plain": [
       "r_p2orden"
      ]
     },
     "execution_count": 1,
     "metadata": {},
     "output_type": "execute_result"
    }
   ],
   "source": [
    "\"\"\"\n",
    " r_p2orden()\n",
    "\n",
    "Esta función calcula las raices de una ecuación de segundo grado \\$ax^2+bx+c=0\\$.\n",
    "\"\"\"\n",
    "\n",
    "function r_p2orden(a,b,c)\n",
    "    x0=b^2-4*a*c\n",
    "    if a==0.0\n",
    "        x=-c/b\n",
    "        return x\n",
    "        elseif x0>0.0 && c <1e-10 ||c>-1e-10\n",
    "        x_1=(-b-sqrt(b^2-4.*a*c))/(2.*a)\n",
    "        x_2= -2c/(b+sqrt(b^2-4.*a*c))#(-(b)^2+sqrt(b^2-4.*a*c))/(2.*a)\n",
    "        return x_1,x_2\n",
    "        elseif x0>0.0 && c <-1e-10 ||c>1e-10\n",
    "        x_1=(-b-sqrt(b^2-4.*a*c))/(2.*a)\n",
    "        x_2=(-b+sqrt(b^2-4.*a*c))/(2.*a)\n",
    "        return x_1,x_2\n",
    "        elseif x0==0 && a !=0.0\n",
    "        x=-(b^2)/(2*a)\n",
    "        return x\n",
    "        else error(\"ERROR, la función no calcula raíces complejas\")\n",
    "    end\n",
    "end"
   ]
  },
  {
   "cell_type": "code",
   "execution_count": 2,
   "metadata": {
    "collapsed": false
   },
   "outputs": [
    {
     "data": {
      "text/markdown": [
       "r_p2orden()\n",
       "\n",
       "Esta función calcula las raices de una ecuación de segundo grado $ax^2+bx+c=0$.\n"
      ],
      "text/plain": [
       "r_p2orden()\n",
       "\n",
       "Esta función calcula las raices de una ecuación de segundo grado $ax^2+bx+c=0$.\n"
      ]
     },
     "execution_count": 2,
     "metadata": {},
     "output_type": "execute_result"
    }
   ],
   "source": [
    "?r_p2orden()"
   ]
  },
  {
   "cell_type": "code",
   "execution_count": 3,
   "metadata": {
    "collapsed": false
   },
   "outputs": [
    {
     "data": {
      "text/plain": [
       "(0.10208423834364044,4.89791576165635)"
      ]
     },
     "execution_count": 3,
     "metadata": {},
     "output_type": "execute_result"
    }
   ],
   "source": [
    "x_1,x_2=r_p2orden(1.0,-5.0,.5)"
   ]
  },
  {
   "cell_type": "code",
   "execution_count": 4,
   "metadata": {
    "collapsed": false
   },
   "outputs": [
    {
     "data": {
      "text/plain": [
       "(-1.0,-1.0e-17)"
      ]
     },
     "execution_count": 4,
     "metadata": {},
     "output_type": "execute_result"
    }
   ],
   "source": [
    "r_p2orden(1.,1.,1/10^17)"
   ]
  },
  {
   "cell_type": "code",
   "execution_count": 5,
   "metadata": {
    "collapsed": false
   },
   "outputs": [
    {
     "data": {
      "text/plain": [
       "(-9.999999999999999899999999999999991845757594537807386062346272263816299462941115e-01,-1.00000000000000008154242405462192613937653727736183700537058902528362239445459e-17)"
      ]
     },
     "execution_count": 5,
     "metadata": {},
     "output_type": "execute_result"
    }
   ],
   "source": [
    "r_p2orden(BigFloat(1.0),BigFloat(1.0),BigFloat(1/10^17))"
   ]
  },
  {
   "cell_type": "code",
   "execution_count": 6,
   "metadata": {
    "collapsed": false
   },
   "outputs": [
    {
     "data": {
      "text/plain": [
       "(-9.999999999999999899999999999999998999999999999999979999999999999999500000000016e-01,-1.000000000000000010000000000000000200000000000000005000000000000000139999999998e-17)"
      ]
     },
     "execution_count": 6,
     "metadata": {},
     "output_type": "execute_result"
    }
   ],
   "source": [
    "r_p2orden(parse(BigFloat, \"1.0\"),parse(BigFloat, \"1.0\"),parse(BigFloat, \"1e-17\"))"
   ]
  },
  {
   "cell_type": "markdown",
   "metadata": {},
   "source": [
    "## 2. Promedio y varianza\n",
    "\n",
    "(a) Escriban dos funciones (`promedio` y `varianza`) que calculen el promedio y la varianza de un vector de datos. \n",
    "    \n",
    "(b) Comparen su resultado con lo que se obtiene al utilizar `mean` y `var`, que son las funciones nativas de Julia que hacen eso. En particular, consideren el siguiente vector de datos\n",
    "```julia\n",
    "v = 1.0e7 + randn(10^8)\n",
    "```\n",
    "¿Qué hace la función `randn(10^8)`?\n",
    "\n",
    "(c) Implementen el [algoritmo recursivo](https://en.wikipedia.org/wiki/Algorithms_for_calculating_variance#Online_algorithm), ampliamente desconocido, que  calcula el promedio (`promedio_rec`) y la varianza (`varianza_rec`) con una sóla lectura de los datos. Usen sus fuciones en el vector anterior y comparen sus resultados con los obtenidos en (a).\n",
    "\n",
    "(d) ¿Cuál de todos los algoritmos es el más rápido? (Pueden usar `@time` o `@elapsed`.) Usen vectores de varias longitudes, que cubran varios órdenes de magnitud."
   ]
  },
  {
   "cell_type": "markdown",
   "metadata": {},
   "source": [
    "### INCISO (a)\n",
    "El [**promedio**](https://en.wikipedia.org/wiki/Mean#Arithmetic_mean_.28AM.29) de un conjunto de valores esta expresado como\n",
    "$$\\bar{x}=\\frac{\\sum_{i=0}^{n}x_i}{n}$$\n",
    "\n",
    "La [**varianza**](https://en.wikipedia.org/wiki/Algorithms_for_calculating_variance#Two-pass_algorithm) cálcula la suma de los cuadrados de las diferencias entre los valores $x_i$ y su promedio $\\bar{x}$\n",
    "$$\\sigma=\\frac{\\sum_{i=0}^{n}\\left(x_i-\\bar{x}\\right)^2}{n-1}$$"
   ]
  },
  {
   "cell_type": "code",
   "execution_count": 7,
   "metadata": {
    "collapsed": false
   },
   "outputs": [
    {
     "data": {
      "text/plain": [
       "promedio"
      ]
     },
     "execution_count": 7,
     "metadata": {},
     "output_type": "execute_result"
    }
   ],
   "source": [
    "\"\"\"\n",
    "promedio()\n",
    "Esta función calcula el promedio de los valores de las entradas de un vector cualquiera.\n",
    "\"\"\"\n",
    "function promedio(v)\n",
    "    P0=zero(eltype(v))#P0=0.\n",
    "    n=length(v)\n",
    "    for i in 1:n\n",
    "        P0=P0+v[i]\n",
    "    end\n",
    "    P=P0/n\n",
    "    return P\n",
    "end"
   ]
  },
  {
   "cell_type": "code",
   "execution_count": 8,
   "metadata": {
    "collapsed": false
   },
   "outputs": [
    {
     "data": {
      "text/plain": [
       "varianza"
      ]
     },
     "execution_count": 8,
     "metadata": {},
     "output_type": "execute_result"
    }
   ],
   "source": [
    "\"\"\"\n",
    "varianza(v)\n",
    "Esta función calcula la varianza de las entradas de un vector.\n",
    "\"\"\"\n",
    "\n",
    "function varianza(v)\n",
    "    h=promedio(v)\n",
    "    P0=zero(eltype(v))#P0=0.\n",
    "    n=length(v)\n",
    "    for i in 1:n\n",
    "        P0=P0+(v[i]-h)^2\n",
    "    end\n",
    "    P=P0/(n-1)#\n",
    "    return P\n",
    "end"
   ]
  },
  {
   "cell_type": "code",
   "execution_count": 9,
   "metadata": {
    "collapsed": false
   },
   "outputs": [
    {
     "data": {
      "text/markdown": [
       "promedio() Esta función calcula el promedio de los valores de las entradas de un vector cualquiera.\n"
      ],
      "text/plain": [
       "promedio() Esta función calcula el promedio de los valores de las entradas de un vector cualquiera.\n"
      ]
     },
     "execution_count": 9,
     "metadata": {},
     "output_type": "execute_result"
    }
   ],
   "source": [
    "?promedio()"
   ]
  },
  {
   "cell_type": "code",
   "execution_count": 10,
   "metadata": {
    "collapsed": false
   },
   "outputs": [
    {
     "data": {
      "text/markdown": [
       "varianza(v) Esta función calcula la varianza de las entradas de un vector.\n"
      ],
      "text/plain": [
       "varianza(v) Esta función calcula la varianza de las entradas de un vector.\n"
      ]
     },
     "execution_count": 10,
     "metadata": {},
     "output_type": "execute_result"
    }
   ],
   "source": [
    "?varianza()"
   ]
  },
  {
   "cell_type": "markdown",
   "metadata": {},
   "source": [
    "### INCISO (b)"
   ]
  },
  {
   "cell_type": "code",
   "execution_count": 11,
   "metadata": {
    "collapsed": false
   },
   "outputs": [
    {
     "data": {
      "text/markdown": [
       "```\n",
       "randn([rng], [T=Float64], [dims...])\n",
       "```\n",
       "\n",
       "Generate a normally-distributed random number of type `T` with mean 0 and standard deviation 1. Optionally generate an array of normally-distributed random numbers. The `Base` module currently provides an implementation for the types `Float16`, `Float32`, and `Float64` (the default).\n"
      ],
      "text/plain": [
       "```\n",
       "randn([rng], [T=Float64], [dims...])\n",
       "```\n",
       "\n",
       "Generate a normally-distributed random number of type `T` with mean 0 and standard deviation 1. Optionally generate an array of normally-distributed random numbers. The `Base` module currently provides an implementation for the types `Float16`, `Float32`, and `Float64` (the default).\n"
      ]
     },
     "execution_count": 11,
     "metadata": {},
     "output_type": "execute_result"
    }
   ],
   "source": [
    "?randn(10^8)"
   ]
  },
  {
   "cell_type": "markdown",
   "metadata": {},
   "source": [
    "*Esta función genera un arreglo de números uniformemente distribuidos*"
   ]
  },
  {
   "cell_type": "code",
   "execution_count": 12,
   "metadata": {
    "collapsed": false
   },
   "outputs": [
    {
     "data": {
      "text/plain": [
       "100000000-element Array{Float64,1}:\n",
       " 1.0e7\n",
       " 1.0e7\n",
       " 1.0e7\n",
       " 1.0e7\n",
       " 1.0e7\n",
       " 1.0e7\n",
       " 1.0e7\n",
       " 1.0e7\n",
       " 1.0e7\n",
       " 1.0e7\n",
       " 1.0e7\n",
       " 1.0e7\n",
       " 1.0e7\n",
       " ⋮    \n",
       " 1.0e7\n",
       " 1.0e7\n",
       " 1.0e7\n",
       " 1.0e7\n",
       " 1.0e7\n",
       " 1.0e7\n",
       " 1.0e7\n",
       " 1.0e7\n",
       " 1.0e7\n",
       " 1.0e7\n",
       " 1.0e7\n",
       " 1.0e7"
      ]
     },
     "execution_count": 12,
     "metadata": {},
     "output_type": "execute_result"
    }
   ],
   "source": [
    "v = 1.0e7 + randn(10^8)"
   ]
  },
  {
   "cell_type": "code",
   "execution_count": 13,
   "metadata": {
    "collapsed": false
   },
   "outputs": [
    {
     "data": {
      "text/plain": [
       "1.00000000000518e7"
      ]
     },
     "execution_count": 13,
     "metadata": {},
     "output_type": "execute_result"
    }
   ],
   "source": [
    "promedio(v)"
   ]
  },
  {
   "cell_type": "code",
   "execution_count": 14,
   "metadata": {
    "collapsed": false
   },
   "outputs": [
    {
     "data": {
      "text/plain": [
       "1.0000000000052147e7"
      ]
     },
     "execution_count": 14,
     "metadata": {},
     "output_type": "execute_result"
    }
   ],
   "source": [
    "mean(v)"
   ]
  },
  {
   "cell_type": "code",
   "execution_count": 15,
   "metadata": {
    "collapsed": false
   },
   "outputs": [
    {
     "data": {
      "text/plain": [
       "1.000020568995322"
      ]
     },
     "execution_count": 15,
     "metadata": {},
     "output_type": "execute_result"
    }
   ],
   "source": [
    "varianza(v)"
   ]
  },
  {
   "cell_type": "code",
   "execution_count": 16,
   "metadata": {
    "collapsed": false
   },
   "outputs": [
    {
     "data": {
      "text/plain": [
       "1.0000205689949178"
      ]
     },
     "execution_count": 16,
     "metadata": {},
     "output_type": "execute_result"
    }
   ],
   "source": [
    "var(v)"
   ]
  },
  {
   "cell_type": "markdown",
   "metadata": {},
   "source": [
    "### INCISO (c)\n",
    "El promedio y la varianza se expresan de la siguiente manera\n",
    "$$\\bar{x}=\\frac{(n-1)\\bar{x}_{n-1}+x_n}{n}=\\bar{x}_{n-1}+\\frac{x_n-\\bar{x}_{n-1}}{n}$$\n",
    "\n",
    "$$ s_n^2=\n",
    "\\frac{(n-2)}{(n-1)}s_{n-1}^2+\\frac{\\left(x_n-\\bar{x}_{n-1}\\right)^2}{n},\\hspace{.5cm}n>1$$\n"
   ]
  },
  {
   "cell_type": "code",
   "execution_count": 17,
   "metadata": {
    "collapsed": false
   },
   "outputs": [
    {
     "data": {
      "text/plain": [
       "proyvar_rec"
      ]
     },
     "execution_count": 17,
     "metadata": {},
     "output_type": "execute_result"
    }
   ],
   "source": [
    "\"\"\"\n",
    "proyvar_rec()\n",
    "\n",
    "Esta función calcula el promedio y la varianza de los valores de las \n",
    "entradas de un vector cualquiera. Aplica un algoritmo recursivo.\n",
    "\"\"\"\n",
    "function proyvar_rec(v)\n",
    "    xp=zero(eltype(v))\n",
    "    si2=zero(eltype(v))\n",
    "    xpm1=v[1]\n",
    "    sim1=v[1]\n",
    "    n=length(v)\n",
    "    for i in 2:n\n",
    "        xp+=xpm1+(v[i]-xpm1)/i\n",
    "        si2+=((i-2)/(i-1))*sim1+((v[i]-xpm1)*(v[i]-xpm1))/i\n",
    "        xpm1=xp\n",
    "        sim1=si2\n",
    "        xp=zero(eltype(v))\n",
    "        si2=zero(eltype(v))\n",
    "        \n",
    "    end\n",
    "    return xpm1,sim1\n",
    "end"
   ]
  },
  {
   "cell_type": "code",
   "execution_count": 18,
   "metadata": {
    "collapsed": false
   },
   "outputs": [
    {
     "data": {
      "text/markdown": [
       "proyvar_rec()\n",
       "\n",
       "Esta función calcula el promedio y la varianza de los valores de las  entradas de un vector cualquiera. Aplica un algoritmo recursivo.\n"
      ],
      "text/plain": [
       "proyvar_rec()\n",
       "\n",
       "Esta función calcula el promedio y la varianza de los valores de las  entradas de un vector cualquiera. Aplica un algoritmo recursivo.\n"
      ]
     },
     "execution_count": 18,
     "metadata": {},
     "output_type": "execute_result"
    }
   ],
   "source": [
    "?proyvar_rec()"
   ]
  },
  {
   "cell_type": "code",
   "execution_count": 19,
   "metadata": {
    "collapsed": false
   },
   "outputs": [
    {
     "data": {
      "text/plain": [
       "(1.0000000000047227e7,1.0000205687092159)"
      ]
     },
     "execution_count": 19,
     "metadata": {},
     "output_type": "execute_result"
    }
   ],
   "source": [
    "proyvar_rec(v)"
   ]
  },
  {
   "cell_type": "code",
   "execution_count": 20,
   "metadata": {
    "collapsed": false
   },
   "outputs": [
    {
     "data": {
      "text/plain": [
       "1.00000000000518e7"
      ]
     },
     "execution_count": 20,
     "metadata": {},
     "output_type": "execute_result"
    }
   ],
   "source": [
    "promedio(v)"
   ]
  },
  {
   "cell_type": "code",
   "execution_count": 21,
   "metadata": {
    "collapsed": false
   },
   "outputs": [
    {
     "data": {
      "text/plain": [
       "1.0000000000052147e7"
      ]
     },
     "execution_count": 21,
     "metadata": {},
     "output_type": "execute_result"
    }
   ],
   "source": [
    "mean(v)"
   ]
  },
  {
   "cell_type": "code",
   "execution_count": 22,
   "metadata": {
    "collapsed": false
   },
   "outputs": [
    {
     "data": {
      "text/plain": [
       "1.000020568995322"
      ]
     },
     "execution_count": 22,
     "metadata": {},
     "output_type": "execute_result"
    }
   ],
   "source": [
    "varianza(v)"
   ]
  },
  {
   "cell_type": "code",
   "execution_count": 23,
   "metadata": {
    "collapsed": false
   },
   "outputs": [
    {
     "data": {
      "text/plain": [
       "1.0000205689949178"
      ]
     },
     "execution_count": 23,
     "metadata": {},
     "output_type": "execute_result"
    }
   ],
   "source": [
    "var(v)"
   ]
  },
  {
   "cell_type": "markdown",
   "metadata": {},
   "source": [
    "### INCISO (d)"
   ]
  },
  {
   "cell_type": "code",
   "execution_count": 24,
   "metadata": {
    "collapsed": false
   },
   "outputs": [
    {
     "name": "stdout",
     "output_type": "stream",
     "text": [
      "  0.000008 seconds (130 allocations: 7.719 KB)\n"
     ]
    },
    {
     "data": {
      "text/plain": [
       "1"
      ]
     },
     "execution_count": 24,
     "metadata": {},
     "output_type": "execute_result"
    }
   ],
   "source": [
    "@time 1"
   ]
  },
  {
   "cell_type": "code",
   "execution_count": 25,
   "metadata": {
    "collapsed": false
   },
   "outputs": [
    {
     "name": "stdout",
     "output_type": "stream",
     "text": [
      "  0.000001 seconds (4 allocations: 160 bytes)\n"
     ]
    },
    {
     "data": {
      "text/plain": [
       "1"
      ]
     },
     "execution_count": 25,
     "metadata": {},
     "output_type": "execute_result"
    }
   ],
   "source": [
    "@time 1"
   ]
  },
  {
   "cell_type": "code",
   "execution_count": 26,
   "metadata": {
    "collapsed": false
   },
   "outputs": [
    {
     "name": "stdout",
     "output_type": "stream",
     "text": [
      "  3.063415 seconds (5 allocations: 192 bytes)\n"
     ]
    }
   ],
   "source": [
    "@time proyvar_rec(v)"
   ]
  },
  {
   "cell_type": "code",
   "execution_count": 27,
   "metadata": {
    "collapsed": false
   },
   "outputs": [
    {
     "name": "stdout",
     "output_type": "stream",
     "text": [
      "  0.228562 seconds (5 allocations: 176 bytes)\n"
     ]
    },
    {
     "data": {
      "text/plain": [
       "1.00000000000518e7"
      ]
     },
     "execution_count": 27,
     "metadata": {},
     "output_type": "execute_result"
    }
   ],
   "source": [
    "@time promedio(v)"
   ]
  },
  {
   "cell_type": "code",
   "execution_count": 28,
   "metadata": {
    "collapsed": false
   },
   "outputs": [
    {
     "name": "stdout",
     "output_type": "stream",
     "text": [
      "  0.104615 seconds (5 allocations: 176 bytes)\n"
     ]
    },
    {
     "data": {
      "text/plain": [
       "1.0000000000052147e7"
      ]
     },
     "execution_count": 28,
     "metadata": {},
     "output_type": "execute_result"
    }
   ],
   "source": [
    "@time mean(v)"
   ]
  },
  {
   "cell_type": "code",
   "execution_count": 29,
   "metadata": {
    "collapsed": false
   },
   "outputs": [
    {
     "name": "stdout",
     "output_type": "stream",
     "text": [
      "  0.482491 seconds (5 allocations: 176 bytes)\n"
     ]
    }
   ],
   "source": [
    "@time varianza(v)"
   ]
  },
  {
   "cell_type": "code",
   "execution_count": 30,
   "metadata": {
    "collapsed": false
   },
   "outputs": [
    {
     "name": "stdout",
     "output_type": "stream",
     "text": [
      "  0.239278 seconds (9 allocations: 320 bytes)\n"
     ]
    },
    {
     "data": {
      "text/plain": [
       "1.0000205689949178"
      ]
     },
     "execution_count": 30,
     "metadata": {},
     "output_type": "execute_result"
    }
   ],
   "source": [
    "@time var(v)"
   ]
  },
  {
   "cell_type": "markdown",
   "metadata": {},
   "source": [
    "## 3. Método de Simpson para integrar $f(x)$ en un intervalo dado\n",
    "\n",
    "Implementen el método de Simpson para integrar una función arbitraria $f(x)$.\n",
    "\n",
    "Aplicando la [Regla de Simpson](https://en.wikipedia.org/wiki/Simpson%27s_rule) a cada subintervalo $[a,b]$. Tengo\n",
    "\n",
    "$$\\int_{a}^{b}f(x)dx=\\frac{b-a}{6}\\left[f(a)+4f\\left(\\frac{a+b}{2}\\right)+f(b)\\right]$$\n"
   ]
  },
  {
   "cell_type": "code",
   "execution_count": 31,
   "metadata": {
    "collapsed": false
   },
   "outputs": [
    {
     "data": {
      "text/plain": [
       "simpson2"
      ]
     },
     "execution_count": 31,
     "metadata": {},
     "output_type": "execute_result"
    }
   ],
   "source": [
    "\"\"\"\n",
    "simpson2(v)\n",
    "Esta función calcula la integral de una función f, del intervalo (a,b) con una división de éste en n pasos.\n",
    "\"\"\"\n",
    "function simpson2(f,a,b,n)\n",
    "    h=(b-a)/n\n",
    "    integral=0.0\n",
    "    for i in 1:n \n",
    "        integral+=h/6*(f(a+(i+1)*h)+4*f(a+i*h)+f(a+(i-1)*h))    \n",
    "    end\n",
    "    return integral\n",
    "end"
   ]
  },
  {
   "cell_type": "code",
   "execution_count": 32,
   "metadata": {
    "collapsed": false
   },
   "outputs": [
    {
     "name": "stdout",
     "output_type": "stream",
     "text": [
      "search:\n",
      "\n"
     ]
    },
    {
     "data": {
      "text/markdown": [
       "simpson2(v) Esta función calcula la integral de una función f, del intervalo (a,b) con una división de éste en n pasos.\n"
      ],
      "text/plain": [
       "simpson2(v) Esta función calcula la integral de una función f, del intervalo (a,b) con una división de éste en n pasos.\n"
      ]
     },
     "execution_count": 32,
     "metadata": {},
     "output_type": "execute_result"
    }
   ],
   "source": [
    "?simpson2"
   ]
  },
  {
   "cell_type": "code",
   "execution_count": 33,
   "metadata": {
    "collapsed": false
   },
   "outputs": [
    {
     "data": {
      "text/plain": [
       "0.3333833383333324"
      ]
     },
     "execution_count": 33,
     "metadata": {},
     "output_type": "execute_result"
    }
   ],
   "source": [
    "simpson2(x->x^2,0.0,1.0,10000)"
   ]
  },
  {
   "cell_type": "code",
   "execution_count": 34,
   "metadata": {
    "collapsed": false
   },
   "outputs": [
    {
     "data": {
      "text/plain": [
       "0.5000500000000003"
      ]
     },
     "execution_count": 34,
     "metadata": {},
     "output_type": "execute_result"
    }
   ],
   "source": [
    "simpson2(x->x,0.0,1.0,10000)"
   ]
  }
 ],
 "metadata": {
  "kernelspec": {
   "display_name": "Julia 0.5.0",
   "language": "julia",
   "name": "julia-0.5"
  },
  "language_info": {
   "file_extension": ".jl",
   "mimetype": "application/julia",
   "name": "julia",
   "version": "0.5.0"
  }
 },
 "nbformat": 4,
 "nbformat_minor": 2
}
