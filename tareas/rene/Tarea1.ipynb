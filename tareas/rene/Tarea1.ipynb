{
 "cells": [
  {
   "cell_type": "markdown",
   "metadata": {},
   "source": [
    "# Tarea 1"
   ]
  },
  {
   "cell_type": "markdown",
   "metadata": {},
   "source": [
    "Fecha de envío del PR inicial: **26 de febrero**\n",
    "\n",
    "Fecha de aceptación del PR: **10 de marzo**\n"
   ]
  },
  {
   "cell_type": "markdown",
   "metadata": {},
   "source": [
    "## 1. Raíces de una ecuación de segundo grado\n",
    "\n",
    "Implementen en julia una función que devuelva las raíces de una ecuación de segundo grado general con coeficientes reales. La función debe ser estable según el tipo ([type-stable](http://docs.julialang.org/en/release-0.5/manual/faq/?highlight=type%20stability#what-does-type-stable-mean)), lo que significa que el tipo del resultado sólamente depende del tipo de las entradas. En particular, muestren que su función devuelve raíces consistentes para $a=1$, $b=1$, $c=10^{-17}$.\n",
    "\n",
    "La función debe estar documentada de manera apropiada, lo que significa que, al correr el Jupyter notebook de su tarea, la instrucción\n",
    "```julia\n",
    "? nombre_funcion\n",
    "```\n",
    "debe dar información apropiada.\n",
    "\n",
    "Incluyan cualquier comentario prudente del algoritmo que usan, ya sea en el notebook (usando markdown) o en la propia función incluyendo comentarios.\n"
   ]
  },
  {
   "cell_type": "markdown",
   "metadata": {},
   "source": [
    "## Ecuación de segundo grado\n",
    "La ecuación de 2 orden está dadá como\n",
    "$$ax^2+bx+c=0$$$$\\rightarrow x^2+\\frac{b}{a}x+\\frac{c}{a}=0\n",
    "$$$$\\rightarrow x^2+\\frac{b}{a}x+\\frac{b^2}{4a^2}=\\frac{b^2}{4a^2}-\\frac{c}{a}$$$$\n",
    "\\hspace{.3cm}\\rightarrow \\left(x+\\frac{b}{2a}\\right)^2=\\frac{b^2}{4a^2}-\\frac{4ac}{4a^2}$$\n",
    "\n",
    "$$\\rightarrow x+\\frac{b}{2a}=\\pm\\sqrt{\\frac{b^2-4ac}{4a^2}}=\\pm\\frac{\\sqrt{b^2-4ac}}{2a}$$\n",
    "$$\\therefore \\;\\;x=\\frac{-b\\pm\\sqrt{b^2-4ac}}{2a}$$\n",
    "$$\\left(x-\\frac{-b+\\sqrt{b^2-4ac}}{2a}\\right)\\left(x-\\frac{-b-\\sqrt{b^2-4ac}}{2a}\\right)=0$$"
   ]
  },
  {
   "cell_type": "code",
   "execution_count": 3,
   "metadata": {
    "collapsed": false
   },
   "outputs": [
    {
     "data": {
      "text/plain": [
       "r_p2orden"
      ]
     },
     "execution_count": 3,
     "metadata": {},
     "output_type": "execute_result"
    }
   ],
   "source": [
    "\"\"\"\n",
    "    r_p2orden()\n",
    "\n",
    "Esta función calcula las raices de una ecuación de segundo grado \\$ax^2+bx+c=0\\$.\n",
    "Para obtener un número con la precision deseada tiene que declarar las entradas de la \n",
    "función como r_p2orden(BigFloat(a),BigFloat(b),BigFloat(c))\n",
    "\n",
    "\"\"\"\n",
    "\n",
    "function r_p2orden(a,b,c)\n",
    "    x0=b^2.-4.*a*c\n",
    "    if x0>0\n",
    "       x_1=(-(b)^2.-sqrt(b^2.-4.*a*c))/(2.*a)\n",
    "       x_2= (-(b)^2.+sqrt(b^2.-4.*a*c))/(2.*a)\n",
    "       println(x_1)\n",
    "       println(x_2)\n",
    "        elseif x0==0\n",
    "        x=-(b^2.)/(2.*a)\n",
    "        else println(\"ERROR, la función no calcula raíces complejas\")\n",
    "    end\n",
    "end"
   ]
  },
  {
   "cell_type": "code",
   "execution_count": 21,
   "metadata": {
    "collapsed": false
   },
   "outputs": [
    {
     "data": {
      "text/markdown": [
       "```\n",
       "r_p2orden()\n",
       "```\n",
       "\n",
       "Esta función calcula las raices de una ecuación de segundo grado $ax^2+bx+c=0$. Para obtener un número con la precision deseada tiene que declarar las entradas de la  función como r_p2orden(BigFloat(a),BigFloat(b),BigFloat(c))\n"
      ],
      "text/plain": [
       "```\n",
       "r_p2orden()\n",
       "```\n",
       "\n",
       "Esta función calcula las raices de una ecuación de segundo grado $ax^2+bx+c=0$. Para obtener un número con la precision deseada tiene que declarar las entradas de la  función como r_p2orden(BigFloat(a),BigFloat(b),BigFloat(c))\n"
      ]
     },
     "execution_count": 21,
     "metadata": {},
     "output_type": "execute_result"
    }
   ],
   "source": [
    "?r_p2orden()"
   ]
  },
  {
   "cell_type": "code",
   "execution_count": 15,
   "metadata": {
    "collapsed": false
   },
   "outputs": [
    {
     "name": "stdout",
     "output_type": "stream",
     "text": [
      "-9.999999999999998999999999999999920902213275965380618601540252228761637979828988e-01\n",
      "-1.000000000000000079097786724034619381398459747771238362020170968363802320941572e-16\n"
     ]
    }
   ],
   "source": [
    "r_p2orden(parse(BigFloat, \"1.0\"),parse(BigFloat, \"1.0\"),BigFloat(1/10^16))"
   ]
  },
  {
   "cell_type": "code",
   "execution_count": 22,
   "metadata": {
    "collapsed": false
   },
   "outputs": [
    {
     "name": "stdout",
     "output_type": "stream",
     "text": [
      "-9.999999999999999995009392834738526535570451211914734370103144085452879578524517e-01\n",
      "-4.990607165261473464429548788085265629896855914547120421475483182910289620369746e-19\n"
     ]
    }
   ],
   "source": [
    "r_p2orden(BigFloat(1.0),BigFloat(1.0),BigFloat(1/10^24))"
   ]
  },
  {
   "cell_type": "code",
   "execution_count": 20,
   "metadata": {
    "collapsed": false
   },
   "outputs": [
    {
     "name": "stdout",
     "output_type": "stream",
     "text": [
      "-1.0\n",
      "0.0\n"
     ]
    }
   ],
   "source": [
    "r_p2orden(Real(1.0),Real(1.0),Real(1/10^17))"
   ]
  },
  {
   "cell_type": "markdown",
   "metadata": {},
   "source": [
    "## 2. Promedio y varianza\n",
    "\n",
    "(a) Escriban dos funciones (`promedio` y `varianza`) que calculen el promedio y la varianza de un vector de datos. \n",
    "    \n",
    "(b) Comparen su resultado con lo que se obtiene al utilizar `mean` y `var`, que son las funciones nativas de Julia que hacen eso. En particular, consideren el siguiente vector de datos\n",
    "```julia\n",
    "v = 1.0e7 + randn(10^8)\n",
    "```\n",
    "¿Qué hace la función `randn(10^8)`?\n",
    "\n",
    "(c) Implementen el [algoritmo recursivo](https://en.wikipedia.org/wiki/Algorithms_for_calculating_variance#Online_algorithm), ampliamente desconocido, que  calcula el promedio (`promedio_rec`) y la varianza (`varianza_rec`) con una sóla lectura de los datos. Usen sus fuciones en el vector anterior y comparen sus resultados con los obtenidos en (a).\n",
    "\n",
    "(d) ¿Cuál de todos los algoritmos es el más rápido? (Pueden usar `@time` o `@elapsed`.) Usen vectores de varias longitudes, que cubran varios órdenes de magnitud."
   ]
  },
  {
   "cell_type": "code",
   "execution_count": 19,
   "metadata": {
    "collapsed": false
   },
   "outputs": [
    {
     "data": {
      "text/markdown": [
       "```\n",
       "randn([rng], [T=Float64], [dims...])\n",
       "```\n",
       "\n",
       "Generate a normally-distributed random number of type `T` with mean 0 and standard deviation 1. Optionally generate an array of normally-distributed random numbers. The `Base` module currently provides an implementation for the types `Float16`, `Float32`, and `Float64` (the default).\n"
      ],
      "text/plain": [
       "```\n",
       "randn([rng], [T=Float64], [dims...])\n",
       "```\n",
       "\n",
       "Generate a normally-distributed random number of type `T` with mean 0 and standard deviation 1. Optionally generate an array of normally-distributed random numbers. The `Base` module currently provides an implementation for the types `Float16`, `Float32`, and `Float64` (the default).\n"
      ]
     },
     "execution_count": 19,
     "metadata": {},
     "output_type": "execute_result"
    }
   ],
   "source": [
    "?randn(10^8)"
   ]
  },
  {
   "cell_type": "markdown",
   "metadata": {},
   "source": [
    "### 2.1 Promedio\n",
    "El promedio de un conjunto de valores esta expresado como\n",
    "$$\\bar{x}=\\frac{\\sum_{i=0}^{n}x_i}{n}$$"
   ]
  },
  {
   "cell_type": "code",
   "execution_count": 42,
   "metadata": {
    "collapsed": false
   },
   "outputs": [
    {
     "name": "stderr",
     "output_type": "stream",
     "text": [
      "WARNING: Method definition promedio(Any) in module Main at In[38]:6 overwritten at In[42]:6.\n",
      "\u001b[1m\u001b[31mWARNING: replacing docs for 'promedio :: Tuple{Any}' in module 'Main'.\u001b[0m\n"
     ]
    },
    {
     "data": {
      "text/plain": [
       "promedio"
      ]
     },
     "execution_count": 42,
     "metadata": {},
     "output_type": "execute_result"
    }
   ],
   "source": [
    "\"\"\"\n",
    "promedio()\n",
    "Esta función calcula el promedio de los valores de las entradas de un vector cualquiera.\n",
    "\"\"\"\n",
    "function promedio(v)\n",
    "    P0=0.\n",
    "    for i in 1:n\n",
    "        P0=P0+v[i]\n",
    "    end\n",
    "    P=P0/n\n",
    "    return P\n",
    "end"
   ]
  },
  {
   "cell_type": "code",
   "execution_count": 62,
   "metadata": {
    "collapsed": false
   },
   "outputs": [
    {
     "data": {
      "text/plain": [
       "-0.49282748530552273"
      ]
     },
     "execution_count": 62,
     "metadata": {},
     "output_type": "execute_result"
    }
   ],
   "source": [
    "n=2\n",
    "v = randn(20)\n",
    "promedio(v)"
   ]
  },
  {
   "cell_type": "markdown",
   "metadata": {},
   "source": [
    "### 2.2 Varianza\n",
    "La varianza cálcula la suma de los cuadrados de las diferencias entre los valores $x_i$ y su promedio $\\bar{x}$\n",
    "$$\\sigma=\\frac{\\sum_{i=0}^{n}\\left(x_i-\\bar{x}\\right)^2}{n-1}$$"
   ]
  },
  {
   "cell_type": "code",
   "execution_count": 44,
   "metadata": {
    "collapsed": false
   },
   "outputs": [
    {
     "name": "stderr",
     "output_type": "stream",
     "text": [
      "WARNING: Method definition varianza(Any) in module Main at In[40]:7 overwritten at In[44]:7.\n",
      "\u001b[1m\u001b[31mWARNING: replacing docs for 'varianza :: Tuple{Any}' in module 'Main'.\u001b[0m\n"
     ]
    },
    {
     "data": {
      "text/plain": [
       "varianza"
      ]
     },
     "execution_count": 44,
     "metadata": {},
     "output_type": "execute_result"
    }
   ],
   "source": [
    "\"\"\"\n",
    "varianza(v)\n",
    "Esta función calcula la varianza de las entradas de un vector.\n",
    "\"\"\"\n",
    "\n",
    "function varianza(v)\n",
    "    h=promedio(v)\n",
    "    P0=0.\n",
    "    for i in 1:n\n",
    "        P0=P0+(v[i]-h)^2\n",
    "    end\n",
    "    P=P0/(n-1)\n",
    "    return P\n",
    "end"
   ]
  },
  {
   "cell_type": "code",
   "execution_count": 45,
   "metadata": {
    "collapsed": false
   },
   "outputs": [
    {
     "data": {
      "text/plain": [
       "1.0001968206421021"
      ]
     },
     "execution_count": 45,
     "metadata": {},
     "output_type": "execute_result"
    }
   ],
   "source": [
    "varianza(v)"
   ]
  },
  {
   "cell_type": "code",
   "execution_count": 46,
   "metadata": {
    "collapsed": false
   },
   "outputs": [
    {
     "data": {
      "text/plain": [
       "1.0000000000084417e7"
      ]
     },
     "execution_count": 46,
     "metadata": {},
     "output_type": "execute_result"
    }
   ],
   "source": [
    "mean(v)"
   ]
  },
  {
   "cell_type": "code",
   "execution_count": 50,
   "metadata": {
    "collapsed": false
   },
   "outputs": [
    {
     "name": "stdout",
     "output_type": "stream",
     "text": [
      "  0.000001 seconds (4 allocations: 160 bytes)\n"
     ]
    }
   ],
   "source": [
    "@time 1;"
   ]
  },
  {
   "cell_type": "code",
   "execution_count": 49,
   "metadata": {
    "collapsed": false
   },
   "outputs": [
    {
     "name": "stdout",
     "output_type": "stream",
     "text": [
      "  0.000001 seconds (3 allocations: 144 bytes)\n"
     ]
    }
   ],
   "source": [
    "@time 1;"
   ]
  },
  {
   "cell_type": "code",
   "execution_count": 52,
   "metadata": {
    "collapsed": false
   },
   "outputs": [
    {
     "name": "stdout",
     "output_type": "stream",
     "text": [
      "  0.110104 seconds (5 allocations: 176 bytes)\n"
     ]
    },
    {
     "data": {
      "text/plain": [
       "1.0000000000084417e7"
      ]
     },
     "execution_count": 52,
     "metadata": {},
     "output_type": "execute_result"
    }
   ],
   "source": [
    "@time mean(v)"
   ]
  },
  {
   "cell_type": "code",
   "execution_count": 47,
   "metadata": {
    "collapsed": false
   },
   "outputs": [
    {
     "data": {
      "text/plain": [
       "1.0001968206418297"
      ]
     },
     "execution_count": 47,
     "metadata": {},
     "output_type": "execute_result"
    }
   ],
   "source": [
    "var(v)"
   ]
  },
  {
   "cell_type": "code",
   "execution_count": 53,
   "metadata": {
    "collapsed": false
   },
   "outputs": [
    {
     "name": "stdout",
     "output_type": "stream",
     "text": [
      "  0.217208 seconds (9 allocations: 320 bytes)\n"
     ]
    },
    {
     "data": {
      "text/plain": [
       "1.0001968206418297"
      ]
     },
     "execution_count": 53,
     "metadata": {},
     "output_type": "execute_result"
    }
   ],
   "source": [
    "@time var(v)"
   ]
  },
  {
   "cell_type": "code",
   "execution_count": 54,
   "metadata": {
    "collapsed": false
   },
   "outputs": [
    {
     "name": "stdout",
     "output_type": "stream",
     "text": [
      " 27.370684 seconds (500.00 M allocations: 8.941 GB, 4.31% gc time)\n"
     ]
    },
    {
     "data": {
      "text/plain": [
       "1.0000000000083938e7"
      ]
     },
     "execution_count": 54,
     "metadata": {},
     "output_type": "execute_result"
    }
   ],
   "source": [
    "@time promedio(v)"
   ]
  },
  {
   "cell_type": "markdown",
   "metadata": {},
   "source": [
    "## 3. Método de Simpson para integrar $f(x)$ en un intervalo dado\n",
    "\n",
    "Implementen el método de Simpson para integrar una función arbitraria $f(x)$.\n",
    "\n",
    "Aplicando la Regla de Simpson a cada subintervalo $[x_{i-1},x_{i+1}]$ con $i=1,2,..,n-1$. Tengo\n",
    "\n",
    "$$\\int_{x_{i-1}}^{x_{i+1}}f(x)dx=\\frac{x_{i+1}-x_{i-1}}{3}\\left[f(x_{i-1})+4f(x_i)+f(x_{i+1})\\right]$$\n",
    "$$\\int_{a}^{b}f(x)dx=\\sum_{i=1}^{n-1}\\int_{x_{i-1}}^{x_{i+1}}f(x)dx=\\int_{x_{0}=a}^{x_{1}}f(x)dx+\\int_{x_{1}}^{x_{2}}f(x)dx+...+\\int_{x_{n-2}}^{x_{n-1}}f(x)dx+\\int_{x_{n-1}}^{x_{n}=b}f(x)dx$$\n",
    "Sumando todas las integrales de todos los intervalos\n",
    "$$\\int_{a}^{b}f(x)dx\\approx\\frac{h}{3}\\left\\{f(x_0)+2\\sum_{i=1}^{n/2-1}f(x_{2i})+4\\sum_{i=1}^{n/2}f(x_{2i-1})+f(x_n)\\right\\}$$"
   ]
  },
  {
   "cell_type": "code",
   "execution_count": null,
   "metadata": {
    "collapsed": true
   },
   "outputs": [],
   "source": [
    "function simpson(a,b,n)\n",
    "   h=(b-a)/n\n",
    "   for i in 1:n\n",
    "    \n",
    "    end\n",
    "end"
   ]
  }
 ],
 "metadata": {
  "kernelspec": {
   "display_name": "Julia 0.5.0",
   "language": "julia",
   "name": "julia-0.5"
  },
  "language_info": {
   "file_extension": ".jl",
   "mimetype": "application/julia",
   "name": "julia",
   "version": "0.5.0"
  }
 },
 "nbformat": 4,
 "nbformat_minor": 2
}
