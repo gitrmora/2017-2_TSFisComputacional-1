{
 "cells": [
  {
   "cell_type": "markdown",
   "metadata": {},
   "source": [
    "# Tarea 3: Derivación automática 1"
   ]
  },
  {
   "cell_type": "markdown",
   "metadata": {},
   "source": [
    "Fecha de envío del PR inicial: **lunes 27 de marzo, antes de la clase**\n",
    "\n",
    "Fecha de aceptación del PR: **martes 4 de abril, antes de la clase**"
   ]
  },
  {
   "cell_type": "markdown",
   "metadata": {},
   "source": [
    "## Ejercicio 1\n",
    "\n",
    "Implementen una nueva estructura paramétrica (`type`) que llamaremos `Dual` y que defina los duales, donde el parámetro debe ser un subtipo de `Real`; la siguiente celda sirve para empezar. La parte que identifica a $f_0$ será llamada `fun`, y la correspondiente a $f'_0$ será `der`.\n",
    "\n",
    "La definición debe incluir métodos que sean compatibles con las dos propiedades arriba mencionadas, es decir, que el dual de una constante (cualquier número real) sea $(c,0)$, y que el de la variable independiente sea $(x_0,1)$. Para lo segundo definiremos una función `xdual` con la propiedad mencionada.\n",
    "\n",
    "---"
   ]
  },
  {
   "cell_type": "code",
   "execution_count": 1,
   "metadata": {
    "collapsed": false
   },
   "outputs": [
    {
     "data": {
      "text/plain": [
       "Dual"
      ]
     },
     "execution_count": 1,
     "metadata": {},
     "output_type": "execute_result"
    }
   ],
   "source": [
    "\"\"\"\n",
    "    Dual{T<:Real}\n",
    "\n",
    "Definición de los duales, donde lo campos son:\n",
    "...\n",
    "\"\"\"\n",
    "type Dual{T<:Real}\n",
    "    fun::T\n",
    "    der::T\n",
    "end"
   ]
  },
  {
   "cell_type": "code",
   "execution_count": 2,
   "metadata": {
    "collapsed": false
   },
   "outputs": [
    {
     "data": {
      "text/plain": [
       "Dual"
      ]
     },
     "execution_count": 2,
     "metadata": {},
     "output_type": "execute_result"
    }
   ],
   "source": [
    "#= \n",
    "Definan un método que permita la promoción automática cuando \n",
    "las entradas para definir el dual no son del mismo tipo\n",
    "=#\n",
    "\"\"\"\n",
    "De ésta manera se promueven los duales para que sean del mismo tipo\n",
    "\"\"\"\n",
    "Dual(a,b) = Dual(promote(a,b)...)"
   ]
  },
  {
   "cell_type": "code",
   "execution_count": 3,
   "metadata": {
    "collapsed": false
   },
   "outputs": [
    {
     "data": {
      "text/plain": [
       "xdual"
      ]
     },
     "execution_count": 3,
     "metadata": {},
     "output_type": "execute_result"
    }
   ],
   "source": [
    "#= \n",
    "Aquí se define la función `xdual`, que se usará para identificar \n",
    "la variable independiente. La función dependerá de x_0, y debe \n",
    "regresar el Dual apropiado a la variable independiente\n",
    "=#\n",
    "\"\"\"\n",
    "xdual(x0) -> Dual(x0, 1)\n",
    "\n",
    "Función que regresa el Dual(el vector que tiene como primera entrada f(x0) y segunda entrada f'(x0)) del número x0. \n",
    "\"\"\"\n",
    "xdual(x0)=Dual(x0,1)"
   ]
  },
  {
   "cell_type": "code",
   "execution_count": 4,
   "metadata": {
    "collapsed": false
   },
   "outputs": [
    {
     "data": {
      "text/plain": [
       "Dual{Int64}(1,1)"
      ]
     },
     "execution_count": 4,
     "metadata": {},
     "output_type": "execute_result"
    }
   ],
   "source": [
    "xdual(1)"
   ]
  },
  {
   "cell_type": "code",
   "execution_count": 5,
   "metadata": {
    "collapsed": false
   },
   "outputs": [
    {
     "data": {
      "text/plain": [
       "Dual"
      ]
     },
     "execution_count": 5,
     "metadata": {},
     "output_type": "execute_result"
    }
   ],
   "source": [
    "#= \n",
    "Aquí se define un método que garantiza que el dual de una constante \n",
    "(número) cumple lo requerido\n",
    "=#\n",
    "\"\"\"\n",
    "Dual(x0)\n",
    "\n",
    "Función que regresa el Dual de una constante Dual(x0,0). \n",
    "\"\"\"\n",
    "Dual(x0)=Dual(x0,0)"
   ]
  },
  {
   "cell_type": "code",
   "execution_count": 6,
   "metadata": {
    "collapsed": false
   },
   "outputs": [
    {
     "data": {
      "text/plain": [
       "Dual{Int64}(2,0)"
      ]
     },
     "execution_count": 6,
     "metadata": {},
     "output_type": "execute_result"
    }
   ],
   "source": [
    "Dual(2)"
   ]
  },
  {
   "cell_type": "code",
   "execution_count": 7,
   "metadata": {
    "collapsed": false
   },
   "outputs": [
    {
     "name": "stdout",
     "output_type": "stream",
     "text": [
      "\u001b[1m\u001b[37mTest Summary:                         | \u001b[0m\u001b[1m\u001b[32mPass  \u001b[0m\u001b[1m\u001b[34mTotal\u001b[0m\n",
      "  pruebas de las componentes de un Dual | \u001b[1m\u001b[32m   2  \u001b[0m\u001b[1m\u001b[34m    2\u001b[0m\n"
     ]
    },
    {
     "data": {
      "text/plain": [
       "Base.Test.DefaultTestSet(\"pruebas de las componentes de un Dual\",Any[],2,false)"
      ]
     },
     "execution_count": 7,
     "metadata": {},
     "output_type": "execute_result"
    }
   ],
   "source": [
    "#= \n",
    "Muestren que su código funciona con tests adecuados para crear duales,\n",
    "para promoverlos, y al definir el dual de un número y `xdual`.\n",
    "\n",
    "En esto es útil usar la infraestructura de Julia; ver:\n",
    "https://julia.readthedocs.io/en/stable/stdlib/test/=#\n",
    "\n",
    "using Base.Test\n",
    "a = Dual(1, 2.0)\n",
    "@testset \"pruebas de las componentes de un Dual\"begin\n",
    "    @test a.fun == 1.0\n",
    "    @test a.der == 2\n",
    "end"
   ]
  },
  {
   "cell_type": "markdown",
   "metadata": {},
   "source": [
    "## Ejercicio 2\n",
    "\n",
    "Implementen *todas* las operaciones aritméticas definidas arriba. Estas operaciones deben incluir las operaciones aritméticas que involucran un número cualquiera (`a :: Real`) y un dual (`b::Dual`), como por ejemplo `a+b` o `b+a`, etc. Esto se puede hacer implementando los métodos específicos para estos casos (¡y que sirven en cualquier órden!). \n",
    "\n",
    "Implementen también la comparación entre duales (`==`). \n",
    "\n",
    "Incluyan tests que muestren que cada una de ellas está bien definida, y que sus resultados dan valores consistentes."
   ]
  },
  {
   "cell_type": "markdown",
   "metadata": {},
   "source": [
    "**Derivada de la suma y resta de funciones**\n",
    "$$f(x)=g(x)\\pm h(x)\\hspace{1cm}\\frac{d}{dx}f(x)=f'(x)=g'(x)\\pm h'(x)$$\n",
    "\n",
    "**Derivada de un producto de funciones**\n",
    "$$f(x)=g(x)h(x)\\hspace{1cm}\\frac{d}{dx}f(x)=f'(x)=g'(x)h(x)+g(x)h'(x)$$\n",
    "\n",
    "**Derivada de un cociente**\n",
    "$$f(x)=\\frac{g(x)}{h(x)}\\hspace{1cm}\\frac{d}{dx}f(x)=f'(x)=\\frac{g'(x)h(x)-g(x)h'(x)}{h^2(x)}$$\n",
    "\n",
    "**Derivada de una función elevada a una potencia real**\n",
    "$$f(x)=g(x)^\\alpha\\hspace{1cm}\\frac{d}{dx}f(x)=f'(x)=\\alpha g(x)^{\\alpha-1}g'(x)$$"
   ]
  },
  {
   "cell_type": "code",
   "execution_count": 8,
   "metadata": {
    "collapsed": false
   },
   "outputs": [
    {
     "data": {
      "text/plain": [
       "== (generic function with 121 methods)"
      ]
     },
     "execution_count": 8,
     "metadata": {},
     "output_type": "execute_result"
    }
   ],
   "source": [
    "import Base: +, -, *, /, ^, ==\n",
    "\n",
    "#= \n",
    "Aquí se implementan los métodos necesarios para cada función; \n",
    "en el caso de ^ por ahora nos conformaremos con que la potencia \n",
    "sea entera.\n",
    "=#\n",
    "#import Base.+\n",
    "+(a::Dual, b::Dual) = Dual( a.fun+b.fun, a.der+b.der )\n",
    "+(a::Dual, b::Real) = Dual( a.fun+b, a.der )\n",
    "+(a::Real, b::Dual) = Dual( a+b.fun, b.der )\n",
    "\n",
    "#import Base.-\n",
    "-(a::Dual, b::Dual) = Dual( a.fun-b.fun, a.der-b.der )\n",
    "-(a::Dual, b::Real) = Dual( a.fun-b, a.der )\n",
    "-(a::Real, b::Dual) = Dual( a-b.fun, -b.der )\n",
    "\n",
    "#import Base.*\n",
    "*(a::Dual, b::Dual) = Dual( a.fun*b.fun, a.der*b.fun+a.fun*b.der )\n",
    "*(a::Real, b::Dual) = Dual( a*b.fun, a*b.der )\n",
    "*(a::Dual, b::Real) = Dual( b*a.fun, b*a.der )\n",
    "\n",
    "#import Base./\n",
    "/(a::Dual, b::Dual) = Dual( a.fun/b.fun, (a.der*b.fun-a.fun*b.der)/(a.fun*a.fun) )\n",
    "/(a::Dual, b::Real) = Dual( a.fun/b, a.der/b )\n",
    "#/(a::Real, b::Dual) = Dual( a.fun/b.fun, (a.der*b.fun-a.fun*b.der)/(a.fun*a.fun) )\n",
    "\n",
    "#import Base.^\n",
    "^(a::Dual, b::Int64) = Dual( a.fun^b, b*a.fun^(b-1)*a.der )\n",
    "\n",
    "#import Base.==\n",
    "==(a::Dual, b::Dual) =a.fun==b.fun && a.der==b.der\n",
    "==(a::Real, b::Dual) =a==b.fun && 0.0==b.der\n",
    "==(a::Dual, b::Real) =a.fun==b && a.der==0.0"
   ]
  },
  {
   "cell_type": "code",
   "execution_count": 9,
   "metadata": {
    "collapsed": false
   },
   "outputs": [
    {
     "data": {
      "text/plain": [
       "f (generic function with 1 method)"
      ]
     },
     "execution_count": 9,
     "metadata": {},
     "output_type": "execute_result"
    }
   ],
   "source": [
    "f(x)=2x^3-2"
   ]
  },
  {
   "cell_type": "code",
   "execution_count": 10,
   "metadata": {
    "collapsed": false
   },
   "outputs": [
    {
     "data": {
      "text/plain": [
       "Dual{Int64}(0,6)"
      ]
     },
     "execution_count": 10,
     "metadata": {},
     "output_type": "execute_result"
    }
   ],
   "source": [
    "f(xdual(1))"
   ]
  },
  {
   "cell_type": "code",
   "execution_count": 11,
   "metadata": {
    "collapsed": false
   },
   "outputs": [
    {
     "name": "stdout",
     "output_type": "stream",
     "text": [
      "\u001b[1m\u001b[37mTest Summary:                        | \u001b[0m\u001b[1m\u001b[32mPass  \u001b[0m\u001b[1m\u001b[34mTotal\u001b[0m\n",
      "  pruebas con operaciones entre Duales | \u001b[1m\u001b[32m  16  \u001b[0m\u001b[1m\u001b[34m   16\u001b[0m\n"
     ]
    },
    {
     "data": {
      "text/plain": [
       "Base.Test.DefaultTestSet(\"pruebas con operaciones entre Duales\",Any[],16,false)"
      ]
     },
     "execution_count": 11,
     "metadata": {},
     "output_type": "execute_result"
    }
   ],
   "source": [
    "# Aquí se incluyen las pruebas necesarias\n",
    "@testset \"pruebas con operaciones entre Duales\"begin\n",
    "    @test Dual(2) == Dual(2,0)\n",
    "    @test Dual(5.0) == Dual(5.0,0.0)\n",
    "    @test xdual(1)==Dual(1,1)\n",
    "    @test xdual(3.0)==Dual(3,1)\n",
    "    @test Dual(5)==Dual(5,0)\n",
    "    @test Dual(1)==Dual(1,0)\n",
    "    @test Dual(1,2)-3==Dual(-2,2)\n",
    "    @test 3-Dual(1,2)==Dual(2,-2)\n",
    "    @test Dual(1,2)+3==Dual(4,2)\n",
    "    @test 3+Dual(1,2)==Dual(4,2)\n",
    "    @test 3*Dual(1,2)==Dual(3,6)\n",
    "    @test Dual(1,2)*3==Dual(3,6)\n",
    "    @test Dual(1,2)/3==Dual(1/3,2/3)\n",
    "    @test (Dual(2,1))^3==Dual(8,12)\n",
    "    @test f(xdual(1))==Dual(0,6)\n",
    "    @test f(xdual(3))==Dual(52,54)\n",
    "end"
   ]
  },
  {
   "cell_type": "markdown",
   "metadata": {},
   "source": [
    "---"
   ]
  },
  {
   "cell_type": "markdown",
   "metadata": {},
   "source": [
    "## Ejercicio 3\n",
    "\n",
    "Para reutilizar el código que han hecho en este notebook, y de hecho seguirlo desarrollando, conviene ponerlo dentro de un módulo. Para hacer esto, deberán copiar todo el código necesario (y que aparece en la resolución de los ejercicios anteriores) en un archivo cuyo nombre será \"AutomDiff.jl\" y cuya estructura será la siguiente\n",
    "\n",
    "```julia\n",
    "#=\n",
    "Aquí viene una explicación de lo que se hace en el módulo, \n",
    "los autores y la fecha\n",
    "=#\n",
    "\n",
    "# La siguiente instrucción sirve para *precompilar* el módulo\n",
    "__precompile__(true)\n",
    "\n",
    "module AD\n",
    "    import Base: +, -, *, /, ^, ==\n",
    "    \n",
    "    export Dual, xdual\n",
    "    \n",
    "    # Aquí viene TODO el código que implementaron.\n",
    "    # Primero uno incluye la definición de Dual y\n",
    "    # después las operaciones con Duales.\n",
    "    ...\n",
    "\n",
    "end\n",
    "```\n",
    "\n",
    "Todas las pruebas deberán ser incluidas en un archivo separado llamado \"runtest.jl\", y su estructura es:\n",
    "\n",
    "```julia\n",
    "# Este archivo incluye los tests del módulo AD\n",
    "include(\"AutomDiff.jl\")\n",
    "using Base.test\n",
    "using AD\n",
    "\n",
    "# A continuación vienen los tests que implementaron y que deben \n",
    "# ser suficientemente exhaustivos\n",
    "...\n",
    "\n",
    "```\n",
    "\n",
    "Estos dos archivos deben incluirlos en el envío de su tarea (además del archivo `Tarea3.ipynb`)."
   ]
  }
 ],
 "metadata": {
  "kernelspec": {
   "display_name": "Julia 0.5.0",
   "language": "julia",
   "name": "julia-0.5"
  },
  "language_info": {
   "file_extension": ".jl",
   "mimetype": "application/julia",
   "name": "julia",
   "version": "0.5.1"
  }
 },
 "nbformat": 4,
 "nbformat_minor": 2
}
