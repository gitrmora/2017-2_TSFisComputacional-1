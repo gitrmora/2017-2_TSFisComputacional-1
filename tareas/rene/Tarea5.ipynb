{
 "cells": [
  {
   "cell_type": "markdown",
   "metadata": {},
   "source": [
    "# Tarea5: Series de Taylor"
   ]
  },
  {
   "cell_type": "markdown",
   "metadata": {},
   "source": [
    "Fecha de envío del PR inicial: **viernes 21 de abril**\n",
    "\n",
    "Fecha de aceptación del PR: **martes 25 de abril, antes de la clase**"
   ]
  },
  {
   "cell_type": "markdown",
   "metadata": {},
   "source": [
    "---"
   ]
  },
  {
   "cell_type": "markdown",
   "metadata": {},
   "source": [
    "## Ejercicio 1\n",
    "\n",
    "Implementen una nueva estructura paramétrica (`type`) que defina el tipo `Taylor`, donde el parámetro debe ser un subtipo de `Number`. Definan métodos que implementen las operaciones aritméticas básicas (`+`, `-`, `*`, `/`) y la igualdad (`==`). Esto deberá ser incluido en un módulo.\n",
    "\n",
    "Incluyan pruebas (en el archivo \"runtests_taylor.jl\") para cada uno de los métodos que implementen.\n"
   ]
  },
  {
   "cell_type": "code",
   "execution_count": 1,
   "metadata": {
    "collapsed": false
   },
   "outputs": [
    {
     "data": {
      "text/plain": [
       "Taylor{T<:Number}"
      ]
     },
     "execution_count": 1,
     "metadata": {},
     "output_type": "execute_result"
    }
   ],
   "source": [
    "\"\"\"\n",
    "Taylor\n",
    "\n",
    "Definición de polinomios de Taylor, donde v representa los coeficientes \n",
    "\\$f_{[k]} = \\\\frac{f^{(k)}(x_0)}{k!} = \\\\frac{1}{k!}\\\\frac{d^k f}{dx^k}(x_0)\\$ evaluados en \\$x_0\\$ y n es \n",
    "el grado del polinomio.\n",
    "\"\"\"\n",
    "type Taylor{T<:Number}\n",
    "    v::Array{T,1}\n",
    "    n::Int\n",
    "end\n",
    "function Taylor{T<:Number}(v::T)#función Taylor aplicada sobre un número\n",
    "    x=[zero(eltype(v))]\n",
    "    x[1]=v\n",
    "    return Taylor(x,0)\n",
    "end\n",
    "function Taylor{T<:Number}(v::Array{T,1})#función Taylor aplicada sobre un vector\n",
    "    n=length(v)\n",
    "    return Taylor(v,n-1)\n",
    "end"
   ]
  },
  {
   "cell_type": "code",
   "execution_count": 2,
   "metadata": {
    "collapsed": false
   },
   "outputs": [
    {
     "name": "stdout",
     "output_type": "stream",
     "text": [
      "search:\n",
      "\n"
     ]
    },
    {
     "data": {
      "text/markdown": [
       "Taylor\n",
       "\n",
       "Definición de polinomios de Taylor, donde v representa los coeficientes  $f_{[k]} = \\frac{f^{(k)}(x_0)}{k!} = \\frac{1}{k!}\\frac{d^k f}{dx^k}(x_0)$ evaluados en $x_0$ y n es  el grado del polinomio.\n"
      ],
      "text/plain": [
       "Taylor\n",
       "\n",
       "Definición de polinomios de Taylor, donde v representa los coeficientes  $f_{[k]} = \\frac{f^{(k)}(x_0)}{k!} = \\frac{1}{k!}\\frac{d^k f}{dx^k}(x_0)$ evaluados en $x_0$ y n es  el grado del polinomio.\n"
      ]
     },
     "execution_count": 2,
     "metadata": {},
     "output_type": "execute_result"
    }
   ],
   "source": [
    "?Taylor"
   ]
  },
  {
   "cell_type": "markdown",
   "metadata": {},
   "source": [
    "**Operaciones aritméticas para coeficientes de Taylor**\n",
    "\\begin{eqnarray}\n",
    "(f+g)_{[k]} & = & f_{[k]} + g_{[k]} ,\\\\\n",
    "(f-g)_{[k]} & = & f_{[k]} - g_{[k]} ,\\\\\n",
    "(f \\cdot g)_{[k]} & = & \\sum_{i=0}^k f_{[i]} \\,g_{[k-i]} \\, ,\\\\\n",
    "\\Big(\\frac{f}{g}\\Big)_{[k]} & = & \\frac{1}{g_{[0]}}\n",
    "\\Big( f_{[k]} - \\sum_{i=0}^{k-1} \\big(\\frac{f}{g}\\big)_{[i]} \\, g_{[k-i]} \\Big) . \\\\\n",
    "\\end{eqnarray}"
   ]
  },
  {
   "cell_type": "code",
   "execution_count": 3,
   "metadata": {
    "collapsed": false
   },
   "outputs": [
    {
     "data": {
      "text/plain": [
       "taylordiv (generic function with 1 method)"
      ]
     },
     "execution_count": 3,
     "metadata": {},
     "output_type": "execute_result"
    }
   ],
   "source": [
    "function igualvec{T<:Number}(A::Array{T,1},n::T)#vector A con n elementos\n",
    "    a=[i=zero(eltype(A)) for i=1:n]\n",
    "    if n<length(A)\n",
    "        for i in 1:n\n",
    "            a[i]=A[i]\n",
    "        end\n",
    "        return a\n",
    "    elseif n==length(A)\n",
    "        return A\n",
    "    else\n",
    "        for i in 1:length(A)\n",
    "            a[i]=A[i]\n",
    "        end\n",
    "        return a\n",
    "    end\n",
    "end\n",
    "function igualvec{T<:Number}(a::Array{T,1},b::Array{T,1}) #función que iguala la longitud de los vectores. Se llenan con ceros\n",
    "    if length(a)<length(b)\n",
    "        x=[i=zero(eltype(a)) for i=1:length(b)]\n",
    "        for i in 1:length(a)\n",
    "            x[i]=a[i]\n",
    "        end\n",
    "        return x,b\n",
    "    elseif length(a)==length(b)\n",
    "        return a,b\n",
    "    else \n",
    "        x=[i=zero(eltype(b)) for i=1:length(a)]\n",
    "        for i in 1:length(b)\n",
    "            x[i]=b[i]\n",
    "        end\n",
    "        return a,x\n",
    "    end\n",
    "end\n",
    "function taylorsum(a,b)#función que suma los coeficientes tipo Taylor\n",
    "    (x,y)=igualvec(a,b)\n",
    "    if length(a)<length(b)\n",
    "        return Taylor(x+y,length(b)-1)\n",
    "    elseif length(a)==length(b)\n",
    "        return Taylor(a+b,length(b)-1)\n",
    "    else\n",
    "        return Taylor(x+y,length(a)-1)\n",
    "    end\n",
    "end\n",
    "function taylorres(a,b)#función que resta los coeficientes tipo Taylor\n",
    "    (x,y)=igualvec(a,b)\n",
    "    if length(a)<length(b)\n",
    "        return Taylor(x-y,length(b)-1)\n",
    "    elseif length(a)==length(b)\n",
    "        return Taylor(a-b,length(b)-1)\n",
    "    else\n",
    "        return Taylor(x-y,length(a)-1)\n",
    "    end\n",
    "end\n",
    "function producto(a,b)#producto de los coeficientes tipo Taylor para dos vectores de igual número de elementos\n",
    "    ab=[i=zero(eltype(a)) for i=1:length(a)]\n",
    "    for k in 1:length(a)\n",
    "        for i in 1:k\n",
    "            ab[k]+=a[i]*b[k+1-i]\n",
    "        end\n",
    "    end\n",
    "    return ab\n",
    "end\n",
    "function taylorprod(a,b)#función que devuelve el producto de los coeficientes tipo Taylor\n",
    "    (x,y)=igualvec(a,b)\n",
    "    if length(a)<length(b)\n",
    "        return Taylor(producto(x,y),length(b)-1)\n",
    "    elseif length(a)==length(b)\n",
    "        return Taylor(producto(a,b),length(b)-1)\n",
    "    else\n",
    "        return Taylor(producto(x,y),length(a)-1)\n",
    "    end\n",
    "end\n",
    "function division(a,b)#división de los coeficientes tipo Taylor para dos vectores de igual número de elementos \n",
    "    if b[1]!=zero(eltype(b))\n",
    "        divab=[i=zero(eltype(a)) for i=1:length(a)]\n",
    "        divab[1]=a[1]/b[1]\n",
    "        for k in 2:length(a)\n",
    "            l=zero(eltype(a))\n",
    "            for i in 1:k-1\n",
    "                l+=divab[i]*b[k-i+1]\n",
    "            end\n",
    "            divab[k]=(1/b[1])*(a[k]-l)\n",
    "        end\n",
    "        return divab\n",
    "    else\n",
    "        return error(\"b[1] debe ser distinto de cero\")\n",
    "    end\n",
    "end\n",
    "function taylordiv(a,b)#función que devuelve la división de los coeficientes tipo Taylor\n",
    "    (x,y)=igualvec(a,b)\n",
    "    if length(a)<length(b)\n",
    "        return Taylor(division(x,y),length(b)-1)\n",
    "    elseif length(a)==length(b)\n",
    "        return Taylor(division(a,b),length(b)-1)\n",
    "    else\n",
    "        return Taylor(division(x,y),length(a)-1)\n",
    "    end\n",
    "end"
   ]
  },
  {
   "cell_type": "code",
   "execution_count": 4,
   "metadata": {
    "collapsed": true
   },
   "outputs": [],
   "source": [
    "import Base:+,-,*,/,==\n",
    "for (f,f1,f2,f3) = ((:+,Taylor,Taylor,(:(taylorsum(a.v,b.v)))),\n",
    "                    (:+,Taylor,Number,(:(Taylor(a.v)+Taylor(b)))),\n",
    "                    (:+,Number,Taylor,(:(Taylor(a)+Taylor(b.v)))),\n",
    "                    (:-,Taylor,Taylor,(:(taylorres(a.v,b.v)))),\n",
    "                    (:-,Taylor,Number,(:(Taylor(a.v)-Taylor(b)))),\n",
    "                    (:-,Number,Taylor,(:(Taylor(a)-Taylor(b.v)))),\n",
    "                    (:*,Taylor,Taylor,(:(taylorprod(a.v,b.v)))),\n",
    "                    (:*,Taylor,Number,(:(Taylor(a.v)*Taylor(b)))),\n",
    "                    (:*,Number,Taylor,(:(Taylor(a)*Taylor(b.v)))),\n",
    "                    (:/,Taylor,Taylor,(:(taylordiv(a.v,b.v)))),\n",
    "                    (:/,Taylor,Number,(:(Taylor(a.v)/Taylor(b)))),\n",
    "                    (:/,Number,Taylor,(:(Taylor(a)/Taylor(b.v)))),\n",
    "                    (:(==),Taylor,Taylor,(:(a.v==b.v && a.n==b.n))),\n",
    "                    (:(==),Taylor,Number,(:(Taylor(a)==Taylor(b)))),\n",
    "                    (:(==),Number,Taylor,(:(Taylor(a)==Taylor(b)))),)\n",
    "              \n",
    "    ex = quote\n",
    "        $f(a::$f1,b::$f2)=$f3\n",
    "    end\n",
    "    @eval $ex\n",
    "end\n"
   ]
  },
  {
   "cell_type": "code",
   "execution_count": 5,
   "metadata": {
    "collapsed": false
   },
   "outputs": [
    {
     "name": "stdout",
     "output_type": "stream",
     "text": [
      "\u001b[1m\u001b[37mTest Summary:                              | \u001b[0m\u001b[1m\u001b[32mPass  \u001b[0m\u001b[1m\u001b[34mTotal\u001b[0m\n",
      "  pruebas con operaciones entre tipos Taylor | \u001b[1m\u001b[32m  17  \u001b[0m\u001b[1m\u001b[34m   17\u001b[0m\n"
     ]
    },
    {
     "data": {
      "text/plain": [
       "Base.Test.DefaultTestSet(\"pruebas con operaciones entre tipos Taylor\",Any[],17,false)"
      ]
     },
     "execution_count": 5,
     "metadata": {},
     "output_type": "execute_result"
    }
   ],
   "source": [
    "a=[2.,3,4,5,6]\n",
    "b=[1.,1,3]\n",
    "c=[1.,1,3,0,0]\n",
    "x=Taylor(a)\n",
    "y=Taylor(b)\n",
    "z=Taylor(1.0)\n",
    "h=[2.,0,0]\n",
    "using Base.Test\n",
    "@testset \"pruebas con operaciones entre tipos Taylor\"begin\n",
    "    @test z==Taylor([1],0)\n",
    "    @test x==Taylor([2,3,4,5,6],4)\n",
    "    @test y==Taylor([1,1,3],2)\n",
    "    @test z==Taylor([1],0)\n",
    "    @test x+y==Taylor([3,4,7,5,6],4)\n",
    "    @test 1+y==Taylor([2,1,3],2)\n",
    "    @test y+1==Taylor([2,1,3],2)\n",
    "    @test x-y==Taylor([1,2,1,5,6],4)\n",
    "    @test y-x==Taylor([-1,-2,-1,-5,-6],4)\n",
    "    @test 1-y==Taylor([0,-1,-3],2)\n",
    "    @test y-1==Taylor([0,1,3],2)\n",
    "    @test y*x==Taylor(producto(c,a),4)\n",
    "    @test 2*y==Taylor([2,2,6],2)\n",
    "    @test y*3==Taylor([3,3,9],2)\n",
    "    @test y/x==Taylor(division(c,a),4)\n",
    "    @test 2/y==Taylor(division(h,b),2)\n",
    "    @test y/3==Taylor([1/3,1/3,1],2)\n",
    "end"
   ]
  },
  {
   "cell_type": "code",
   "execution_count": 47,
   "metadata": {
    "collapsed": false
   },
   "outputs": [
    {
     "data": {
      "text/plain": [
       "AD"
      ]
     },
     "execution_count": 47,
     "metadata": {},
     "output_type": "execute_result"
    }
   ],
   "source": [
    "workspace()\n",
    "__precompile__(true)\n",
    "\n",
    "module AD\n",
    "    import Base: +, -, *, /, ==\n",
    "    export Taylor,producto,division,igualvec\n",
    "\"\"\"\n",
    "Taylor\n",
    "\n",
    "Definición de polinomios de Taylor, donde v representa los coeficientes \n",
    "\\$f_{[k]} = \\\\frac{f^{(k)}(x_0)}{k!} = \\\\frac{1}{k!}\\\\frac{d^k f}{dx^k}(x_0)\\$ evaluados en \\$x_0\\$ y n es \n",
    "el grado del polinomio.\n",
    "\"\"\"\n",
    "type Taylor{T<:Number}\n",
    "    v::Array{T,1}\n",
    "    n::Int\n",
    "end\n",
    "function Taylor{T<:Number}(v::T)#función Taylor aplicada sobre un número\n",
    "    x=[zero(eltype(v))]\n",
    "    x[1]=v\n",
    "    return Taylor(x,0)\n",
    "end\n",
    "function Taylor{T<:Number}(v::Array{T,1})#función Taylor aplicada sobre un vector\n",
    "    n=length(v)\n",
    "    return Taylor(v,n-1)\n",
    "end\n",
    "function igualvec(a,b) #función que iguala la longitud de los vectores. Se llenan con ceros\n",
    "    if length(a)<length(b)\n",
    "        x=[i=zero(eltype(a)) for i=1:length(b)]\n",
    "        for i in 1:length(a)\n",
    "            x[i]=a[i]\n",
    "        end\n",
    "        return x,b\n",
    "    elseif length(a)==length(b)\n",
    "        return a,b\n",
    "    else \n",
    "        x=[i=zero(eltype(b)) for i=1:length(a)]\n",
    "        for i in 1:length(b)\n",
    "            x[i]=b[i]\n",
    "        end\n",
    "        return a,x\n",
    "    end\n",
    "end\n",
    "function taylorsum(a,b)#función que suma los coeficientes tipo Taylor\n",
    "    (x,y)=igualvec(a,b)\n",
    "    if length(a)<length(b)\n",
    "        return Taylor(x+y,length(b)-1)\n",
    "    elseif length(a)==length(b)\n",
    "        return Taylor(a+b,length(b)-1)\n",
    "    else\n",
    "        return Taylor(x+y,length(a)-1)\n",
    "    end\n",
    "end\n",
    "function taylorres(a,b)#función que resta los coeficientes tipo Taylor\n",
    "    (x,y)=igualvec(a,b)\n",
    "    if length(a)<length(b)\n",
    "        return Taylor(x-y,length(b)-1)\n",
    "    elseif length(a)==length(b)\n",
    "        return Taylor(a-b,length(b)-1)\n",
    "    else\n",
    "        return Taylor(x-y,length(a)-1)\n",
    "    end\n",
    "end\n",
    "function producto(a,b)#producto de los coeficientes tipo Taylor para dos vectores de igual número de elementos\n",
    "    ab=[i=zero(eltype(a)) for i=1:length(a)]\n",
    "    for k in 1:length(a)\n",
    "        for i in 1:k\n",
    "            ab[k]+=a[i]*b[k+1-i]\n",
    "        end\n",
    "    end\n",
    "    return ab\n",
    "end\n",
    "function taylorprod(a,b)#función que devuelve el producto de los coeficientes tipo Taylor\n",
    "    (x,y)=igualvec(a,b)\n",
    "    if length(a)<length(b)\n",
    "        return Taylor(producto(x,y),length(b)-1)\n",
    "    elseif length(a)==length(b)\n",
    "        return Taylor(producto(a,b),length(b)-1)\n",
    "    else\n",
    "        return Taylor(producto(x,y),length(a)-1)\n",
    "    end\n",
    "end\n",
    "function division(a,b)#división de los coeficientes tipo Taylor para dos vectores de igual número de elementos \n",
    "    if b[1]!=zero(eltype(b))\n",
    "        divab=[i=zero(eltype(a)) for i=1:length(a)]\n",
    "        divab[1]=a[1]/b[1]\n",
    "        for k in 2:length(a)\n",
    "            l=zero(eltype(a))\n",
    "            for i in 1:k-1\n",
    "                l+=divab[i]*b[k-i+1]\n",
    "            end\n",
    "            divab[k]=(1/b[1])*(a[k]-l)\n",
    "        end\n",
    "        return divab\n",
    "    else\n",
    "        return error(\"b[1] debe ser distinto de cero\")\n",
    "    end\n",
    "end\n",
    "function taylordiv(a,b)#función que devuelve la división de los coeficientes tipo Taylor\n",
    "    (x,y)=igualvec(a,b)\n",
    "    if length(a)<length(b)\n",
    "        return Taylor(division(x,y),length(b)-1)\n",
    "    elseif length(a)==length(b)\n",
    "        return Taylor(division(a,b),length(b)-1)\n",
    "    else\n",
    "        return Taylor(division(x,y),length(a)-1)\n",
    "    end\n",
    "end\n",
    "for (f,f1,f2,f3) = ((:+,Taylor,Taylor,(:(taylorsum(a.v,b.v)))),\n",
    "                    (:+,Taylor,Number,(:(Taylor(a.v)+Taylor(b)))),\n",
    "                    (:+,Number,Taylor,(:(Taylor(a)+Taylor(b.v)))),\n",
    "                    (:-,Taylor,Taylor,(:(taylorres(a.v,b.v)))),\n",
    "                    (:-,Taylor,Number,(:(Taylor(a.v)-Taylor(b)))),\n",
    "                    (:-,Number,Taylor,(:(Taylor(a)-Taylor(b.v)))),\n",
    "                    (:*,Taylor,Taylor,(:(taylorprod(a.v,b.v)))),\n",
    "                    (:*,Taylor,Number,(:(Taylor(a.v)*Taylor(b)))),\n",
    "                    (:*,Number,Taylor,(:(Taylor(a)*Taylor(b.v)))),\n",
    "                    (:/,Taylor,Taylor,(:(taylordiv(a.v,b.v)))),\n",
    "                    (:/,Taylor,Number,(:(Taylor(a.v)/Taylor(b)))),\n",
    "                    (:/,Number,Taylor,(:(Taylor(a)/Taylor(b.v)))),\n",
    "                    (:(==),Taylor,Taylor,(:(a.v==b.v && a.n==b.n))),\n",
    "                    (:(==),Taylor,Number,(:(Taylor(a)==Taylor(b)))),\n",
    "                    (:(==),Number,Taylor,(:(Taylor(a)==Taylor(b)))), )\n",
    "              \n",
    "    ex = quote\n",
    "        $f(a::$f1,b::$f2)=$f3\n",
    "    end\n",
    "    @eval $ex\n",
    "end\n",
    "\n",
    "\n",
    "end"
   ]
  },
  {
   "cell_type": "code",
   "execution_count": 7,
   "metadata": {
    "collapsed": false
   },
   "outputs": [],
   "source": [
    "using Base.Test\n",
    "using AD"
   ]
  },
  {
   "cell_type": "code",
   "execution_count": 8,
   "metadata": {
    "collapsed": false
   },
   "outputs": [
    {
     "name": "stdout",
     "output_type": "stream",
     "text": [
      "\u001b[1m\u001b[37mTest Summary:                              | \u001b[0m\u001b[1m\u001b[32mPass  \u001b[0m\u001b[1m\u001b[34mTotal\u001b[0m\n",
      "  pruebas con operaciones entre tipos Taylor | \u001b[1m\u001b[32m  17  \u001b[0m\u001b[1m\u001b[34m   17\u001b[0m\n"
     ]
    },
    {
     "data": {
      "text/plain": [
       "Base.Test.DefaultTestSet(\"pruebas con operaciones entre tipos Taylor\",Any[],17,false)"
      ]
     },
     "execution_count": 8,
     "metadata": {},
     "output_type": "execute_result"
    }
   ],
   "source": [
    "a=[2.,3,4,5,6]\n",
    "b=[1.,1,3]\n",
    "c=[1.,1,3,0,0]\n",
    "x=Taylor(a)\n",
    "y=Taylor(b)\n",
    "z=Taylor(1.0)\n",
    "h=[2.,0,0]\n",
    "@testset \"pruebas con operaciones entre tipos Taylor\"begin\n",
    "    @test z==Taylor([1],0)\n",
    "    @test x==Taylor([2,3,4,5,6],4)\n",
    "    @test y==Taylor([1,1,3],2)\n",
    "    @test z==Taylor([1],0)\n",
    "    @test x+y==Taylor([3,4,7,5,6],4)\n",
    "    @test 1+y==Taylor([2,1,3],2)\n",
    "    @test y+1==Taylor([2,1,3],2)\n",
    "    @test x-y==Taylor([1,2,1,5,6],4)\n",
    "    @test y-x==Taylor([-1,-2,-1,-5,-6],4)\n",
    "    @test 1-y==Taylor([0,-1,-3],2)\n",
    "    @test y-1==Taylor([0,1,3],2)\n",
    "    @test y*x==Taylor(producto(c,a),4)\n",
    "    @test 2*y==Taylor([2,2,6],2)\n",
    "    @test y*3==Taylor([3,3,9],2)\n",
    "    @test y/x==Taylor(division(c,a),4)\n",
    "    @test 2/y==Taylor(division(h,b),2)\n",
    "    @test y/3==Taylor([1/3,1/3,1],2)\n",
    "end"
   ]
  },
  {
   "cell_type": "code",
   "execution_count": 9,
   "metadata": {
    "collapsed": false
   },
   "outputs": [
    {
     "name": "stdout",
     "output_type": "stream",
     "text": [
      "\u001b[1m\u001b[37mTest Summary:                              | \u001b[0m\u001b[1m\u001b[32mPass  \u001b[0m\u001b[1m\u001b[34mTotal\u001b[0m\n",
      "  pruebas con operaciones entre tipos Taylor | \u001b[1m\u001b[32m  17  \u001b[0m\u001b[1m\u001b[34m   17\u001b[0m\n"
     ]
    },
    {
     "data": {
      "text/plain": [
       "Base.Test.DefaultTestSet(\"pruebas con operaciones entre tipos Taylor\",Any[],17,false)"
      ]
     },
     "execution_count": 9,
     "metadata": {},
     "output_type": "execute_result"
    }
   ],
   "source": [
    "# Muestren que su código funciona con tests adecuados\n",
    "workspace()\n",
    "using Base.Test\n",
    "include(\"runtest_taylor.jl\")"
   ]
  },
  {
   "cell_type": "markdown",
   "metadata": {},
   "source": [
    "---"
   ]
  },
  {
   "cell_type": "markdown",
   "metadata": {},
   "source": [
    "## Ejercicio 2\n",
    "\n",
    "Obtengan las relaciones de recurrencia para las funciones $L(x) = \\log\\big(g(x)\\big)$, $P_\\alpha(x) = \\big(g(x)\\big)^\\alpha$, $S(x) = \\sin\\big(g(x)\\big)$, $C(x) = \\cos\\big(g(x)\\big)$ usando el mismo procedimiento que arriba. Implementen métodos adecuados para estas funciones en el módulo, actuando sobre estructuras `Taylor` e incluyan pruebas necesarias en `runtest_taylor.jl`."
   ]
  },
  {
   "cell_type": "markdown",
   "metadata": {
    "collapsed": true
   },
   "source": [
    "**Para la función exponencial**\n",
    "\n",
    "$$\\displaystyle{E(x)=\\exp(g(x))= \\sum_{k=0}^\\infty E_{[k]} (x-x_0)^k}\\hspace{2cm}g(x)=\\sum_{k=0}^\\infty g_{[k]} (x-x_0)^k$$\n",
    "\n",
    "$$\\frac{dE(x)}{dx}=\\sum_{k=0}^\\infty kE_{[k]} (x-x_0)^{k-1}\\hspace{2cm}\n",
    "\\frac{dg(x)}{dx}=\\sum_{k=0}^\\infty kg_{[k]} (x-x_0)^{k-1}$$\n",
    "$$\\frac{dE(x)}{dx}=\\exp(g(x))\\frac{dg(x)}{dx}$$\n",
    "\n",
    "La relación de recurrencia es\n",
    "\n",
    "\\begin{equation}\n",
    "E_{[k]} = \\frac{1}{k} \\sum_{j=0}^k j g_{[j]} \\, E_{[k-j]} = \n",
    "\\frac{1}{k} \\sum_{j=0}^{k} (k-j) g_{[k-j]} \\, E_{[j]}, \\qquad k=1,2,\\dots,\n",
    "\\end{equation}"
   ]
  },
  {
   "cell_type": "code",
   "execution_count": 49,
   "metadata": {
    "collapsed": false
   },
   "outputs": [
    {
     "data": {
      "text/plain": [
       "AD.Taylor{Rational{Int64}}(Rational{Int64}[1//1,1//1,1//2,1//6,1//24,1//120],5)"
      ]
     },
     "execution_count": 49,
     "metadata": {},
     "output_type": "execute_result"
    }
   ],
   "source": [
    "workspace()\n",
    "include(\"TaylorDiff.jl\")\n",
    "using AD\n",
    "G=[0,1//1]#vector que representa la función g(x)=x\n",
    "function Cexp(G,n)#algoritmo que cálcula los coeficientes de Taylor para la función exp(g(x))\n",
    "    E=[i=zero(eltype(G)) for i=1:n+1]\n",
    "    g=veclleno(G,length(E))\n",
    "    E[1]=exp(g[1])\n",
    "    E[2]=g[2]*E[1]\n",
    "    for k in 2:n\n",
    "        p=zero(eltype(G))\n",
    "        for j in 0:k-1\n",
    "            p+=(k-j)*g[k+1-j]*E[j+1]\n",
    "        end\n",
    "    E[k+1]=p/k\n",
    "    end\n",
    "    return Taylor(E)\n",
    "end\n",
    "Cexp(G,5)"
   ]
  },
  {
   "cell_type": "code",
   "execution_count": 48,
   "metadata": {
    "collapsed": false
   },
   "outputs": [
    {
     "data": {
      "text/plain": [
       "2"
      ]
     },
     "execution_count": 48,
     "metadata": {},
     "output_type": "execute_result"
    }
   ],
   "source": [
    "2"
   ]
  },
  {
   "cell_type": "code",
   "execution_count": 50,
   "metadata": {
    "collapsed": false
   },
   "outputs": [
    {
     "data": {
      "text/plain": [
       "exp (generic function with 13 methods)"
      ]
     },
     "execution_count": 50,
     "metadata": {},
     "output_type": "execute_result"
    }
   ],
   "source": [
    "import Base:exp\n",
    "exp(a::Taylor, b::Int)=Cexp(a.v,b)"
   ]
  },
  {
   "cell_type": "code",
   "execution_count": 51,
   "metadata": {
    "collapsed": false
   },
   "outputs": [
    {
     "data": {
      "text/plain": [
       "AD.Taylor{Rational{Int64}}(Rational{Int64}[1//1,1//1,1//2,1//6,1//24],4)"
      ]
     },
     "execution_count": 51,
     "metadata": {},
     "output_type": "execute_result"
    }
   ],
   "source": [
    "G=[0,1//1]\n",
    "a=Taylor(G)\n",
    "exp(a,4)"
   ]
  },
  {
   "cell_type": "markdown",
   "metadata": {},
   "source": [
    "**Para el logaritmo** \n",
    "\n",
    "$$\\displaystyle{L(x)=\\log(g(x))= \\sum_{k=0}^\\infty L_{[k]} (x-x_0)^k}\\hspace{2cm}g(x)=\\sum_{k=0}^\\infty g_{[k]} (x-x_0)^k$$\n",
    "\n",
    "$$\\frac{dL(x)}{dx}=\\sum_{k=0}^\\infty kL_{[k]} (x-x_0)^{k-1}\\hspace{2cm}\n",
    "\\frac{dg(x)}{dx}=\\sum_{k=0}^\\infty kg_{[k]} (x-x_0)^{k-1}$$\n",
    "$$\\frac{dL(x)}{dx}=\\frac{d\\log(g(x))}{dx}=\\frac{1}{g(x)}\\frac{dg(x)}{dx}$$\n",
    "\n",
    "$$g(x)\\frac{dL(x)}{dx}=\\frac{dg(x)}{dx}$$\n",
    "\n",
    "Entonces\n",
    "$$\\sum_{k=0}^\\infty g_{[k]} (x-x_0)^k\\sum_{j=0}^\\infty jL_{[j]} (x-x_0)^{j-1}=\\sum_{k=0}^\\infty kg_{[k]} (x-x_0)^{k-1}$$\n",
    "\n",
    "$$\\left[\\sum_{k=0}^\\infty kL_{[k]} (x-x_0)^{k-1}\\right]\\left[\\sum_{j=0}^\\infty g_{[j]} (x-x_0)^j\\right]=\\sum_{k=0}^\\infty kg_{[k]} (x-x_0)^{k-1}$$\n",
    "\n",
    "$$\\sum_{k=1}^\\infty\\left[\\sum_{j=0}^k(k-j)L_{[k-j]}g_{[j]} \\right] (x-x_0)^{k-1}=\\sum_{k=0}^\\infty kg_{[k]} (x-x_0)^{k-1}$$\n",
    "\n",
    "$$\\sum_{k=1}^\\infty\\left[\\sum_{j=0}^kjL_{[j]}g_{[k-j]} \\right] (x-x_0)^{k-1}=\\sum_{k=0}^\\infty kg_{[k]} (x-x_0)^{k-1}$$\n",
    "\n",
    "$$\\sum_{j=0}^kjL_{[j]}g_{[k-j]}=kg_{[k]}$$\n",
    "\n",
    "$$kL_{[k]}g_{[0]}+\\sum_{j=0}^{k-1}jL_{[j]}g_{[k-j]}=kg_{[k]}$$\n",
    "\n",
    "$$L_{[k]}=\\frac{1}{g_{[0]}}\\left[g_{[k]}-\\frac{1}{k}\\sum_{j=1}^{k-1}jL_{[j]}g_{[k-j]}\\right]$$"
   ]
  },
  {
   "cell_type": "code",
   "execution_count": 52,
   "metadata": {
    "collapsed": false
   },
   "outputs": [
    {
     "data": {
      "text/plain": [
       "AD.Taylor{Rational{Int64}}(Rational{Int64}[0//1,1//1,-1//2,1//3],3)"
      ]
     },
     "execution_count": 52,
     "metadata": {},
     "output_type": "execute_result"
    }
   ],
   "source": [
    "G=[1//1,1]#función g(x)=1+x\n",
    "function coeflog(G,n)#algoritmo que cálcula los coeficientes de Taylor para la función log(g(x))\n",
    "    L=[i=zero(eltype(G)) for i=1:n+1]\n",
    "    g=veclleno(G,length(L))\n",
    "    L[1]=log(g[1])\n",
    "    L[2]=g[2]/g[1]\n",
    "    for k in 2:n\n",
    "    l=zero(eltype(G))\n",
    "        for j in 1:k-1\n",
    "            l+=j*L[j+1]*g[k+1-j]\n",
    "        end\n",
    "    L[k+1]=(1/g[1])*(g[k+1]-l/k)\n",
    "    end\n",
    "    return Taylor(L)\n",
    "end\n",
    "coeflog(G,3)"
   ]
  },
  {
   "cell_type": "code",
   "execution_count": 53,
   "metadata": {
    "collapsed": false
   },
   "outputs": [
    {
     "data": {
      "text/plain": [
       "log (generic function with 20 methods)"
      ]
     },
     "execution_count": 53,
     "metadata": {},
     "output_type": "execute_result"
    }
   ],
   "source": [
    "import Base:log\n",
    "log(a::Taylor, b::Int)=coeflog(a.v,b)"
   ]
  },
  {
   "cell_type": "code",
   "execution_count": 54,
   "metadata": {
    "collapsed": false
   },
   "outputs": [
    {
     "data": {
      "text/plain": [
       "AD.Taylor{Rational{Int64}}(Rational{Int64}[0//1,1//1,-1//2,1//3,-1//4],4)"
      ]
     },
     "execution_count": 54,
     "metadata": {},
     "output_type": "execute_result"
    }
   ],
   "source": [
    "G=[1,1//1]\n",
    "a=Taylor(G)\n",
    "log(a,4)"
   ]
  },
  {
   "cell_type": "markdown",
   "metadata": {},
   "source": [
    "**Para la función $P_\\alpha(x)=(g(x))^\\alpha$** \n",
    "\n",
    "$$\\displaystyle{P_\\alpha(x)=(g(x))^\\alpha= \\sum_{k=0}^\\infty {P_\\alpha}_{[k]} (x-x_0)^k}\\hspace{2cm}g(x)=\\sum_{k=0}^\\infty g_{[k]} (x-x_0)^k$$\n",
    "\n",
    "$$\\frac{dP_\\alpha(x)}{dx}=\\sum_{k=0}^\\infty k{P_\\alpha}_{[k]} (x-x_0)^{k-1}\\hspace{2cm}\n",
    "\\frac{dg(x)}{dx}=\\sum_{k=0}^\\infty kg_{[k]} (x-x_0)^{k-1}$$\n",
    "$$\\frac{d(g(x))^\\alpha}{dx}=\\alpha (g(x))^{\\alpha-1}\\frac{dg(x)}{dx}=\\alpha \\frac{(g(x))^{\\alpha}}{g(x)}\\frac{dg(x)}{dx}$$\n",
    "\n",
    "Por una parte\n",
    "$$g(x)\\frac{d(g(x))^\\alpha}{dx}=\\alpha(g(x))^{\\alpha}\\frac{dg(x)}{dx}$$\n",
    "\n",
    "$$\\sum_{k=0}^\\infty g_{[k]} (x-x_0)^k\\sum_{j=0}^\\infty j{P_\\alpha}_{[j]} (x-x_0)^{j-1}=\n",
    "\\alpha \\sum_{j=0}^\\infty {P_\\alpha}_{[j]} (x-x_0)^j\\sum_{k=0}^\\infty kg_{[k]} (x-x_0)^{k-1}$$\n",
    "\n",
    "$$\\sum_{k=1}^\\infty\\left[\\sum_{j=0}^kg_{[k-j]}j{P_\\alpha}_{[j]}\\right](x-x_0)^{k-1}=\n",
    "\\sum_{k=1}^\\infty\\left[\\sum_{j=0}^k \\alpha(k-j)g_{[k-j]}{P_\\alpha}_{[j]}\\right](x-x_0)^{k-1}$$\n",
    "\n",
    "$$\\sum_{j=0}^kg_{[k-j]}j{P_\\alpha}_{[j]}=\\sum_{j=0}^k \\alpha(k-j)g_{[k-j]}{P_\\alpha}_{[j]}$$\n",
    "\n",
    "$$\\sum_{j=1}^kg_{[k-j]}j{P_\\alpha}_{[j]}=\\sum_{j=0}^{k-1} \\alpha(k-j)g_{[k-j]}{P_\\alpha}_{[j]}$$\n",
    "\n",
    "$$g_{[0]}k{P_\\alpha}_{[k]}+\\sum_{j=1}^{k-1}g_{[k-j]}j{P_\\alpha}_{[j]}=\\alpha kg_{[k]}{P_\\alpha}_{[0]}+\\sum_{j=1}^{k-1} \\alpha(k-j)g_{[k-j]}{P_\\alpha}_{[j]}$$\n",
    "\n",
    "$$g_{[0]}k{P_\\alpha}_{[k]}=\\alpha kg_{[k]}{P_\\alpha}_{[0]}+\\sum_{j=1}^{k-1}g_{[k-j]}{P_\\alpha}_{[j]}\\left[\\alpha(k-j)-j\\right]$$\n",
    "\n",
    "$${P_\\alpha}_{[k]}=\\alpha \\frac{g_{[k]}}{g_{[0]}}{P_\\alpha}_{[0]}+\\frac{1}{kg_{[0]}}\\sum_{j=1}^{k-1}g_{[k-j]}{P_\\alpha}_{[j]}\\left[\\alpha k-(\\alpha +1)j\\right]$$"
   ]
  },
  {
   "cell_type": "code",
   "execution_count": 58,
   "metadata": {
    "collapsed": false
   },
   "outputs": [
    {
     "data": {
      "text/plain": [
       "AD.Taylor{Float64}([1.0,2.0,1.0,0.0,0.0,0.0,0.0,0.0],7)"
      ]
     },
     "execution_count": 58,
     "metadata": {},
     "output_type": "execute_result"
    }
   ],
   "source": [
    "G=[1.0,1]#vector que representa la función g(x)=1+x\n",
    "function Cexpalpha(G,alpha,n)#algoritmo que cálcula los coeficientes de Taylor para la función (g(x))^α\n",
    "    P=[i=zero(eltype(G)) for i=1:n+1]\n",
    "    g=veclleno(G,length(P))\n",
    "    P[1]=(g[1])^alpha\n",
    "    P[2]=alpha*(g[2]/g[1])*P[1]\n",
    "    for k in 2:n\n",
    "    p=zero(eltype(G))\n",
    "        for j in 1:k-1\n",
    "            p+=(alpha*k-(alpha+1)*j)*g[k+1-j]*P[j+1]\n",
    "        end\n",
    "    P[k+1]=alpha*(g[k+1]/g[1])*P[1]+(1/(k*g[1]))*p\n",
    "    end\n",
    "    return Taylor(P)\n",
    "end\n",
    "Cexpalpha(G,2,7)"
   ]
  },
  {
   "cell_type": "code",
   "execution_count": 59,
   "metadata": {
    "collapsed": false
   },
   "outputs": [
    {
     "name": "stderr",
     "output_type": "stream",
     "text": [
      "WARNING: Method definition ^(AD.Taylor, Int64, Int64) in module Main at In[55]:2 overwritten at In[59]:2.\n"
     ]
    },
    {
     "data": {
      "text/plain": [
       "^ (generic function with 48 methods)"
      ]
     },
     "execution_count": 59,
     "metadata": {},
     "output_type": "execute_result"
    }
   ],
   "source": [
    "import Base:^\n",
    "^(a::Taylor,b::Int,c::Int)=Cexpalpha(a.v,b,c)"
   ]
  },
  {
   "cell_type": "code",
   "execution_count": 60,
   "metadata": {
    "collapsed": false
   },
   "outputs": [
    {
     "data": {
      "text/plain": [
       "AD.Taylor{Rational{Int64}}(Rational{Int64}[1//1,4//1,6//1,4//1,1//1],4)"
      ]
     },
     "execution_count": 60,
     "metadata": {},
     "output_type": "execute_result"
    }
   ],
   "source": [
    "G=[1,1//1]\n",
    "a=Taylor(G)\n",
    "^(a,4,4)"
   ]
  },
  {
   "cell_type": "markdown",
   "metadata": {},
   "source": [
    "**Para la función $S(x)=\\sin(g(x))$ y $C(x) = \\cos(g(x))$** \n",
    "\n",
    "$$S(x)=sin(g(x))= \\sum_{k=0}^\\infty {S}_{[k]} (x-x_0)^k\\hspace{2cm}C(x) = \\cos(g(x))=\\sum_{k=0}^\\infty C_{[k]} (x-x_0)^k$$\n",
    "\n",
    "$$\\frac{dS(x)}{dx}=\\sum_{k=0}^\\infty k{S}_{[k]} (x-x_0)^{k-1}\\hspace{2cm}\n",
    "\\frac{dC(x)}{dx}=\\sum_{k=0}^\\infty k{C}_{[k]} (x-x_0)^{k-1}$$\n",
    "$$\\frac{dS(x)}{dx}=\\cos(g(x))\\frac{dg(x)}{dx}=C(x)\\frac{dg(x)}{dx}\\hspace{2cm}\n",
    "\\frac{dC(x)}{dx}=-\\sin(g(x))\\frac{dg(x)}{dx}=-S(x)\\frac{dg(x)}{dx}$$\n",
    "\n",
    "Igualando las últimas 4 expresiones\n",
    "$$\\frac{dS(x)}{dx}=\\sum_{k=0}^\\infty k{S}_{[k]} (x-x_0)^{k-1}=\n",
    "\\sum_{k=0}^\\infty C_{[k]} (x-x_0)^k\\sum_{j=0}^\\infty jg_{[j]} (x-x_0)^{j-1}=\n",
    "\\sum_{k=1}^\\infty \\left[\\sum_{j=0}^k jg_{[j]}C_{[k-j]}\\right](x-x_0)^{k-1}\n",
    "$$\n",
    "$$\\frac{dC(x)}{dx}=\\sum_{k=0}^\\infty k{C}_{[k]} (x-x_0)^{k-1}=\n",
    "-\\sum_{k=0}^\\infty S_{[k]} (x-x_0)^k\\sum_{j=0}^\\infty jg_{[j]} (x-x_0)^{j-1}=\n",
    "-\\sum_{k=1}^\\infty \\left[\\sum_{j=0}^k jg_{[j]}S_{[k-j]}\\right](x-x_0)^{k-1}\n",
    "$$\n",
    "\n",
    "De aquí obtengo las dos siguientes relaciones\n",
    "\n",
    "$$S_{[k]}=\\frac{1}{k}\\sum_{j=0}^k jg_{[j]}C_{[k-j]}=\\frac{1}{k}\\sum_{j=0}^{k-1} (k-j)g_{[k-j]}C_{[j]}\\hspace{2cm}\n",
    "C_{[k]}=-\\frac{1}{k}\\sum_{j=0}^k jg_{[j]}S_{[k-j]}=-\\frac{1}{k}\\sum_{j=0}^{k-1} (k-j)g_{[k-j]}S_{[j]}$$\n",
    "\n",
    "Con las condiciones iniciales \n",
    "$$S_{[0]}=\\sin(g(x_0))\\hspace{2cm}C_{[0]}=\\cos(g(x_0))$$\n",
    "\n",
    "Para el caso concreto $g(x) = x$ alrededor de $x_0=0$, donde tenemos $g_{[j]} = \\delta_{j,1}$, obtenemos\n",
    "\n",
    "$$S_{[0]}=0 \\hspace{2cm}C_{[0]}=1$$\n",
    "$$S_{[1]}=C_{[0]}=1 \\hspace{2cm}C_{[1]}=-S_{[0]}=0$$\n",
    "\n",
    "$$S_{[k]}=\\frac{1}{k}C_{[k-1]}=\\frac{1(-1)}{k(k-1)}S_{[k-2]}=\\frac{1(-1)(1)}{k(k-1)(k-2)}C_{[k-3]}=\n",
    "\\frac{1(-1)(1)(-1)}{k(k-1)(k-2)(k-3)}S_{[k-4]}=\\dots$$$$\n",
    "C_{[k]}=\\frac{-1}{k}S_{[k-1]}=\\frac{(-1)(1)}{k(k-1)}C_{[k-2]}=\\frac{(-1)(1)(-1)}{k(k-1)(k-2)}S_{[k-3]}=\n",
    "\\frac{(-1)(1)(-1)(1)}{k(k-1)(k-2)(k-3)}C_{[k-4]}=\\dots$$\n",
    "\n",
    "$$S_{[k]}=\\frac{(-1)}{k(k-1)}S_{[k-2]}=\\frac{(-1)^2}{k(k-1)(k-2)(k-3)}S_{[k-4]}=\n",
    "\\frac{(-1)^3}{k(k-1)(k-2)(k-3)(k-4)(k-5)}S_{[k-6]}=\\dots$$$$\n",
    "C_{[k]}=\\frac{(-1)}{k(k-1)}C_{[k-2]}=\\frac{(-1)^2}{k(k-1)(k-2)(k-3)}C_{[k-4]}=\n",
    "\\frac{(-1)^3}{k(k-1)(k-2)(k-3)(k-4)(k-5)}C_{[k-6]}=\\dots$$\n",
    "\n",
    "$$S_{[k]}=\\frac{(-1)^{j/2}(k-j)!}{k!}S_{[k-j]}\\hspace{2cm}C_{[k]}=\\frac{(-1)^{j/2}(k-j)!}{k!}C_{[k-j]}$$\n",
    "\n",
    "Para que $S_{[k]}$ no sea nulo $k>2$ y debe ser un número impar $k=2n+1$. De la misma menera para que $C_{[k]}$ no sea nulo $k\\geq2$ y debe ser un número par $k=2n$. Entonces\n",
    "\n",
    "$$S_{[2n+1]}=\\frac{(-1)^{j/2}((2n+1)-j)!}{(2n+1)!}S_{[(2n+1)-j]}\\hspace{2cm}C_{[2n]}=\\frac{(-1)^{j/2}((2n)-j)!}{(2n)!}C_{[(2n)-j]}$$\n",
    "\n",
    "Para los coeficientes del seno si $2n+1-j=1$ $\\Rightarrow j=2n$. En los coeficientes del coseno si $2n-j=0$ $\\Rightarrow j=2n$. De esta manera\n",
    "\n",
    "$$S_{[2n+1]}=\\frac{(-1)^{n}}{(2n+1)!}S_{[1]}=\\frac{(-1)^{n}}{(2n+1)!}C_{[0]}=\\frac{(-1)^{n}}{(2n+1)!}\\hspace{2cm}C_{[2n]}=\\frac{(-1)^{n}}{(2n)!}C_{[0]}=\\frac{(-1)^{n}}{(2n)!}$$\n",
    "\n",
    "Por lo tanto\n",
    "$$S(x)=\\sin(x)=\\sum_{n=0}^\\infty \\frac{(-1)^{n}}{(2n+1)!}x^{2n+1}\\hspace{2cm}C(x) = \\cos(x)=\\sum_{n=0}^\\infty \\frac{(-1)^{n}}{(2n)!}x^{2n}$$"
   ]
  },
  {
   "cell_type": "code",
   "execution_count": 61,
   "metadata": {
    "collapsed": false
   },
   "outputs": [
    {
     "data": {
      "text/plain": [
       "AD.Taylor{Float64}([1.0,0.0,-0.5,-0.0,0.0416667],4)"
      ]
     },
     "execution_count": 61,
     "metadata": {},
     "output_type": "execute_result"
    }
   ],
   "source": [
    "G=[0,1.0]#vector que representa la función g(x)=x\n",
    "function Csencos(G,n)#algoritmo que cálcula los coeficientes de Taylor para las funciones cos(g(x)) y sin(g(x))\n",
    "    S=[i=zero(eltype(G)) for i=1:n+1]\n",
    "    C=[i=zero(eltype(G)) for i=1:n+1]\n",
    "    g=veclleno(G,length(S))\n",
    "    C[1]=cos(g[1])\n",
    "    S[2]=C[1]\n",
    "    for k in 2:n\n",
    "        p=zero(eltype(G))\n",
    "        q=zero(eltype(G))\n",
    "        for j in 0:k-1\n",
    "            p+=(k-j)*g[k+1-j]*C[j+1]\n",
    "            q+=(k-j)*g[k+1-j]*S[j+1]\n",
    "        end\n",
    "    S[k+1]=p/k\n",
    "    C[k+1]=-q/k\n",
    "    end\n",
    "    return Taylor(C),Taylor(S)\n",
    "end\n",
    "function Csen(G,n)\n",
    "    (a,b)=Csencos(G,n)\n",
    "    return b\n",
    "end\n",
    "function Ccos(G,n)\n",
    "    (a,b)=Csencos(G,n)\n",
    "    return a\n",
    "end\n",
    "Ccos(G,4)"
   ]
  },
  {
   "cell_type": "code",
   "execution_count": 64,
   "metadata": {
    "collapsed": false
   },
   "outputs": [
    {
     "name": "stderr",
     "output_type": "stream",
     "text": [
      "WARNING: Method definition sin(AD.Taylor, Int64) in module Main at In[62]:2 overwritten at In[64]:2.\n",
      "WARNING: Method definition cos(AD.Taylor, Int64) in module Main at In[62]:3 overwritten at In[64]:3.\n"
     ]
    },
    {
     "data": {
      "text/plain": [
       "cos (generic function with 11 methods)"
      ]
     },
     "execution_count": 64,
     "metadata": {},
     "output_type": "execute_result"
    }
   ],
   "source": [
    "import Base:sin,cos\n",
    "sin(a::Taylor,b::Int)=Csen(a.v,b)\n",
    "cos(a::Taylor,b::Int)=Ccos(a.v,b)"
   ]
  },
  {
   "cell_type": "code",
   "execution_count": 65,
   "metadata": {
    "collapsed": false
   },
   "outputs": [
    {
     "data": {
      "text/plain": [
       "(AD.Taylor{Rational{Int64}}(Rational{Int64}[0//1,1//1,0//1,-1//6,0//1],4),AD.Taylor{Rational{Int64}}(Rational{Int64}[1//1,0//1,-1//2,0//1,1//24],4))"
      ]
     },
     "execution_count": 65,
     "metadata": {},
     "output_type": "execute_result"
    }
   ],
   "source": [
    "G=[0,1//1]\n",
    "a=Taylor(G)\n",
    "sin(a,4),cos(a,4)"
   ]
  },
  {
   "cell_type": "code",
   "execution_count": 75,
   "metadata": {
    "collapsed": false
   },
   "outputs": [
    {
     "name": "stdout",
     "output_type": "stream",
     "text": [
      "\u001b[1m\u001b[37mTest Summary:                                           | \u001b[0m\u001b[1m\u001b[32mPass  \u001b[0m\u001b[1m\u001b[34mTotal\u001b[0m\n",
      "  pruebas con operaciones entre funciones de tipos Taylor | \u001b[1m\u001b[32m  10  \u001b[0m\u001b[1m\u001b[34m   10\u001b[0m\n"
     ]
    },
    {
     "data": {
      "text/plain": [
       "Base.Test.DefaultTestSet(\"pruebas con operaciones entre funciones de tipos Taylor\",Any[],10,false)"
      ]
     },
     "execution_count": 75,
     "metadata": {},
     "output_type": "execute_result"
    }
   ],
   "source": [
    "a=[0,1.]\n",
    "b=[1,1.]\n",
    "x=Taylor(a)\n",
    "y=Taylor(b)\n",
    "\n",
    "using Base.Test\n",
    "@testset \"pruebas con operaciones entre funciones de tipos Taylor\"begin\n",
    "    @test exp(x,3)==Cexp(a,3)\n",
    "    @test exp(x,6)==Cexp(a,6)\n",
    "    @test log(y,3)==coeflog(b,3)\n",
    "    @test log(y,5)==coeflog(b,5)\n",
    "    @test ^(y,5,5)==Cexpalpha(b,5,5)\n",
    "    @test ^(y,5,3)==Cexpalpha(b,5,3)\n",
    "    @test sin(x,3)==Csen(a,3)\n",
    "    @test sin(x,5)==Csen(a,5)\n",
    "    @test cos(x,5)==Ccos(a,5)\n",
    "    @test cos(x,5)==Ccos(a,5)\n",
    "end"
   ]
  },
  {
   "cell_type": "markdown",
   "metadata": {},
   "source": [
    "Aquí incluyo las pruebas finales."
   ]
  },
  {
   "cell_type": "code",
   "execution_count": 77,
   "metadata": {
    "collapsed": false
   },
   "outputs": [
    {
     "name": "stdout",
     "output_type": "stream",
     "text": [
      "\u001b[1m\u001b[37mTest Summary:                              | \u001b[0m\u001b[1m\u001b[32mPass  \u001b[0m\u001b[1m\u001b[34mTotal\u001b[0m\n",
      "  pruebas con operaciones entre tipos Taylor | \u001b[1m\u001b[32m  17  \u001b[0m\u001b[1m\u001b[34m   17\u001b[0m\n",
      "\u001b[1m\u001b[37mTest Summary:                                           | \u001b[0m"
     ]
    },
    {
     "name": "stderr",
     "output_type": "stream",
     "text": [
      "WARNING: Method definition Cexp(Any, Any) in module AD at /home/madara/Semestreactual/Temas Selectos de Fisica Computacional I/tareas/TaylorDiff2.jl:134 overwritten at /home/madara/Semestreactual/Temas Selectos de Fisica Computacional I/tareas/TaylorDiff2.jl:171.\n",
      "WARNING: Method definition exp(AD.Taylor, Int64) in module AD at /home/madara/Semestreactual/Temas Selectos de Fisica Computacional I/tareas/TaylorDiff2.jl:165 overwritten at /home/madara/Semestreactual/Temas Selectos de Fisica Computacional I/tareas/TaylorDiff2.jl:239.\n"
     ]
    },
    {
     "name": "stdout",
     "output_type": "stream",
     "text": [
      "\u001b[1m\u001b[32mPass  \u001b[0m\u001b[1m\u001b[34mTotal\u001b[0m\n",
      "  pruebas con operaciones entre funciones de tipos Taylor | \u001b[1m\u001b[32m  10  \u001b[0m\u001b[1m\u001b[34m   10\u001b[0m\n"
     ]
    },
    {
     "data": {
      "text/plain": [
       "Base.Test.DefaultTestSet(\"pruebas con operaciones entre funciones de tipos Taylor\",Any[],10,false)"
      ]
     },
     "execution_count": 77,
     "metadata": {},
     "output_type": "execute_result"
    }
   ],
   "source": [
    "workspace()\n",
    "using Base.Test\n",
    "include(\"runtest_taylor2.jl\")"
   ]
  },
  {
   "cell_type": "code",
   "execution_count": null,
   "metadata": {
    "collapsed": true
   },
   "outputs": [],
   "source": []
  }
 ],
 "metadata": {
  "kernelspec": {
   "display_name": "Julia 0.5.0",
   "language": "julia",
   "name": "julia-0.5"
  },
  "language_info": {
   "file_extension": ".jl",
   "mimetype": "application/julia",
   "name": "julia",
   "version": "0.5.1"
  }
 },
 "nbformat": 4,
 "nbformat_minor": 2
}
