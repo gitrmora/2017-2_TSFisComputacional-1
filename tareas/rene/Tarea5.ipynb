{
 "cells": [
  {
   "cell_type": "markdown",
   "metadata": {},
   "source": [
    "# Tarea5: Series de Taylor"
   ]
  },
  {
   "cell_type": "markdown",
   "metadata": {},
   "source": [
    "Fecha de envío del PR inicial: **viernes 21 de abril**\n",
    "\n",
    "Fecha de aceptación del PR: **martes 25 de abril, antes de la clase**"
   ]
  },
  {
   "cell_type": "markdown",
   "metadata": {},
   "source": [
    "---"
   ]
  },
  {
   "cell_type": "markdown",
   "metadata": {},
   "source": [
    "## Ejercicio 1\n",
    "\n",
    "Implementen una nueva estructura paramétrica (`type`) que defina el tipo `Taylor`, donde el parámetro debe ser un subtipo de `Number`. Definan métodos que implementen las operaciones aritméticas básicas (`+`, `-`, `*`, `/`) y la igualdad (`==`). Esto deberá ser incluido en un módulo.\n",
    "\n",
    "Incluyan pruebas (en el archivo \"runtests_taylor.jl\") para cada uno de los métodos que implementen.\n"
   ]
  },
  {
   "cell_type": "code",
   "execution_count": 9,
   "metadata": {
    "collapsed": false
   },
   "outputs": [
    {
     "data": {
      "text/plain": [
       "Taylor"
      ]
     },
     "execution_count": 9,
     "metadata": {},
     "output_type": "execute_result"
    }
   ],
   "source": [
    "workspace()\n",
    "\"\"\"\n",
    "Definición de polinomios de Taylor, donde\n",
    "...\n",
    "\"\"\"\n",
    "type Taylor{T<:Number}\n",
    "    n::Int\n",
    "    v::Array{T,1}\n",
    "    function taylor(n)\n",
    "       for i in 1:n+1\n",
    "           v[i]=i \n",
    "        end\n",
    "    end\n",
    "end\n",
    "#=\n",
    "type Taylor(n){T<:Real}\n",
    "    for i in 1:n+1\n",
    "        ex = quote\n",
    "            a.$i::T\n",
    "        a.i::T\n",
    "            println(ex)\n",
    "        end\n",
    "    end\n",
    "    # código: \n",
    "end=#"
   ]
  },
  {
   "cell_type": "code",
   "execution_count": 5,
   "metadata": {
    "collapsed": false
   },
   "outputs": [
    {
     "data": {
      "text/plain": [
       "Taylor{T<:Number}"
      ]
     },
     "execution_count": 5,
     "metadata": {},
     "output_type": "execute_result"
    }
   ],
   "source": [
    "workspace()\n",
    "type Taylor{T<:Number}\n",
    "    v::Array{T,1}\n",
    "    n::Int\n",
    "end\n",
    "function Taylor(v,n)\n",
    "        v=[i=zero(eltype(Number)) for i=1:n+1]\n",
    "        v[1]=n\n",
    "        return Taylor(n,v)\n",
    "end\n",
    "    \n",
    "import Base.+\n",
    "+(a::Taylor, b::Taylor) = Taylor( a.n,a.v+b.v)\n",
    "\n",
    "function Taylor(n)\n",
    "    v=[i=zero(eltype(Number)) for i=1:n+1]\n",
    "    v[1]=n\n",
    "    return Taylor(n,v)\n",
    "end\n",
    "\n",
    "#=\n",
    "+(a::Taylor, b::Taylor) = Taylor( a.n, for i in 1:n+1 )\n",
    "function Taylor(n)\n",
    "    v=[i=zero(eltype(Number)) for i=1:n]\n",
    "    v[1]=1\n",
    "    for i in 2:n\n",
    "        v[i]=0\n",
    "    end\n",
    "    return v\n",
    "end=#"
   ]
  },
  {
   "cell_type": "code",
   "execution_count": 10,
   "metadata": {
    "collapsed": false
   },
   "outputs": [
    {
     "ename": "LoadError",
     "evalue": "MethodError: Cannot `convert` an object of type Int64 to an object of type Taylor{T<:Number}\nThis may have arisen from a call to the constructor Taylor{T<:Number}(...),\nsince type constructors fall back to convert methods.",
     "output_type": "error",
     "traceback": [
      "MethodError: Cannot `convert` an object of type Int64 to an object of type Taylor{T<:Number}\nThis may have arisen from a call to the constructor Taylor{T<:Number}(...),\nsince type constructors fall back to convert methods.",
      "",
      " in Taylor{T<:Number}(::Int64) at ./sysimg.jl:53"
     ]
    }
   ],
   "source": [
    "Taylor(2)+Taylor(2)"
   ]
  },
  {
   "cell_type": "code",
   "execution_count": 11,
   "metadata": {
    "collapsed": false
   },
   "outputs": [
    {
     "ename": "LoadError",
     "evalue": "MethodError: no method matching Taylor{T<:Number}(::Int64, ::Array{Float64,1})\u001b[0m\nClosest candidates are:\n  Taylor{T<:Number}{T}(::Any) at sysimg.jl:53\u001b[0m",
     "output_type": "error",
     "traceback": [
      "MethodError: no method matching Taylor{T<:Number}(::Int64, ::Array{Float64,1})\u001b[0m\nClosest candidates are:\n  Taylor{T<:Number}{T}(::Any) at sysimg.jl:53\u001b[0m",
      ""
     ]
    }
   ],
   "source": [
    "v=[4,2,3,4,5,6.7,8.9]\n",
    "a=Taylor(2,v)"
   ]
  },
  {
   "cell_type": "code",
   "execution_count": null,
   "metadata": {
    "collapsed": true
   },
   "outputs": [],
   "source": [
    "import Base: +, -, *, /, ==\n",
    "\n",
    "# Aqui se implementan los métodos necesarios para cada función\n"
   ]
  },
  {
   "cell_type": "code",
   "execution_count": null,
   "metadata": {
    "collapsed": true
   },
   "outputs": [],
   "source": [
    "# Muestren que su código funciona con tests adecuados\n",
    "\n",
    "using Base.Test\n",
    "include(\"runtest_taylor.jl\")"
   ]
  },
  {
   "cell_type": "markdown",
   "metadata": {},
   "source": [
    "---"
   ]
  },
  {
   "cell_type": "markdown",
   "metadata": {},
   "source": [
    "## Ejercicio 2\n",
    "\n",
    "Obtengan las relaciones de recurrencia para las funciones $L(x) = \\log\\big(g(x)\\big)$, $P_\\alpha(x) = \\big(g(x)\\big)^\\alpha$, $S(x) = \\sin\\big(g(x)\\big)$, $C(x) = \\cos\\big(g(x)\\big)$ usando el mismo procedimiento que arriba. Implementen métodos adecuados para estas funciones en el módulo, actuando sobre estructuras `Taylor` e incluyan pruebas necesarias en `runtest_taylor.jl`."
   ]
  },
  {
   "cell_type": "markdown",
   "metadata": {
    "collapsed": true
   },
   "source": [
    "**Para el logaritmo** \n",
    "\n",
    "$$\\displaystyle{L(x)=\\log(g(x))= \\sum_{k=0}^\\infty L_{[k]} (x-x_0)^k}\\hspace{2cm}g(x)=\\sum_{k=0}^\\infty g_{[k]} (x-x_0)^k$$\n",
    "\n",
    "$$\\frac{dL(x)}{dx}=\\sum_{k=0}^\\infty kL_{[k]} (x-x_0)^{k-1}\\hspace{2cm}\n",
    "\\frac{dg(x)}{dx}=\\sum_{k=0}^\\infty kg_{[k]} (x-x_0)^{k-1}$$\n",
    "$$\\frac{d\\log(g(x))}{dx}=\\frac{1}{g(x)}\\frac{dg(x)}{dx}\\hspace{2cm}g(x)\\frac{dL(x)}{dx}=\\frac{dg(x)}{dx}$$\n",
    "\n",
    "Entonces\n",
    "$$\\left\\{\\sum_{k=0}^\\infty g_{[k]} (x-x_0)^k\\right\\}\\left\\{\\sum_{j=0}^\\infty jL_{[j]} (x-x_0)^{j-1}\\right\\}=\n",
    "\\sum_{k=0}^\\infty kg_{[k]} (x-x_0)^{k-1}$$\n",
    "\n",
    "Sea $i=k+j$\n",
    "$$\\sum_{k=0}^\\infty \\sum_{j=0}^\\infty jL_{[j]}g_{[k]} (x-x_0)^{j+k-1}=\n",
    "\\sum_{k=0}^\\infty kg_{[k]} (x-x_0)^{k-1}$$\n",
    "\n",
    "$$\\sum_{i=1}^\\infty \\sum_{j=0}^i jL_{[j]}g_{[i-j]} (x-x_0)^{i-1}=\n",
    "\\sum_{k=0}^\\infty kg_{[k]} (x-x_0)^{k-1}$$\n",
    "\n",
    "Cambio $i$ por $k$ entonces\n",
    "$$\\sum_{k=1}^\\infty \\left[\\sum_{j=0}^k jL_{[j]}g_{[k-j]}\\right] (x-x_0)^{k-1}=\n",
    "\\sum_{k=0}^\\infty kg_{[k]} (x-x_0)^{k-1}$$\n",
    "\n",
    "$$\\sum_{j=0}^k jL_{[j]}g_{[k-j]}=kg_{[k]}$$"
   ]
  },
  {
   "cell_type": "code",
   "execution_count": null,
   "metadata": {
    "collapsed": true
   },
   "outputs": [],
   "source": []
  },
  {
   "cell_type": "markdown",
   "metadata": {},
   "source": [
    "**Para la función $P_\\alpha(x)=(g(x))^\\alpha$** \n",
    "\n",
    "$$\\displaystyle{P_\\alpha(x)=(g(x))^\\alpha= \\sum_{k=0}^\\infty {P_\\alpha}_{[k]} (x-x_0)^k}\\hspace{2cm}g(x)=\\sum_{k=0}^\\infty g_{[k]} (x-x_0)^k$$\n",
    "\n",
    "$$\\frac{dP_\\alpha(x)}{dx}=\\sum_{k=0}^\\infty k{P_\\alpha}_{[k]} (x-x_0)^{k-1}\\hspace{2cm}\n",
    "\\frac{dg(x)}{dx}=\\sum_{k=0}^\\infty kg_{[k]} (x-x_0)^{k-1}$$\n",
    "$$\\frac{d(g(x))^\\alpha}{dx}=\\alpha (g(x))^{\\alpha-1}\\frac{dg(x)}{dx}=\\alpha \\frac{(g(x))^{\\alpha}}{g(x)}\\frac{dg(x)}{dx}$$\n",
    "\n",
    "Por una parte\n",
    "$$\\frac{d(g(x))^\\alpha}{dx}=\\alpha \\frac{\\sum_{k=0}^\\infty {P_\\alpha}_{[k]} (x-x_0)^k}\n",
    "{\\sum_{j=0}^\\infty g_{[j]} (x-x_0)^j}\\sum_{i=0}^\\infty ig_{[i]} (x-x_0)^{i-1}$$"
   ]
  },
  {
   "cell_type": "code",
   "execution_count": null,
   "metadata": {
    "collapsed": true
   },
   "outputs": [],
   "source": []
  },
  {
   "cell_type": "markdown",
   "metadata": {},
   "source": [
    "**Para la función $S(x)=\\sin(g(x))$ y $C(x) = \\cos(g(x))$** \n",
    "\n",
    "$$S(x)=sin(g(x))= \\sum_{k=0}^\\infty {S}_{[k]} (x-x_0)^k\\hspace{2cm}C(x) = \\cos(g(x))=\\sum_{k=0}^\\infty C_{[k]} (x-x_0)^k$$\n",
    "\n",
    "$$\\frac{dS(x)}{dx}=\\sum_{k=0}^\\infty k{S}_{[k]} (x-x_0)^{k-1}\\hspace{2cm}\n",
    "\\frac{dC(x)}{dx}=\\sum_{k=0}^\\infty k{C}_{[k]} (x-x_0)^{k-1}$$\n",
    "$$\\frac{dS(x)}{dx}=\\cos(g(x))\\frac{dg(x)}{dx}=C(x)\\frac{dg(x)}{dx}\\hspace{2cm}\n",
    "\\frac{dC(x)}{dx}=-\\sin(g(x))\\frac{dg(x)}{dx}=-S(x)\\frac{dg(x)}{dx}$$\n",
    "\n",
    "Igualando las últimas 4 expresiones\n",
    "$$\\frac{dS(x)}{dx}=\\sum_{k=0}^\\infty k{S}_{[k]} (x-x_0)^{k-1}=\n",
    "\\sum_{k=0}^\\infty C_{[k]} (x-x_0)^k\\sum_{j=0}^\\infty jg_{[j]} (x-x_0)^{j-1}=\n",
    "\\sum_{k=1}^\\infty \\left[\\sum_{j=0}^k jg_{[j]}C_{[k-j]}\\right](x-x_0)^{k-1}\n",
    "$$\n",
    "$$\\frac{dC(x)}{dx}=\\sum_{k=0}^\\infty k{C}_{[k]} (x-x_0)^{k-1}=\n",
    "-\\sum_{k=0}^\\infty S_{[k]} (x-x_0)^k\\sum_{j=0}^\\infty jg_{[j]} (x-x_0)^{j-1}=\n",
    "-\\sum_{k=1}^\\infty \\left[\\sum_{j=0}^k jg_{[j]}S_{[k-j]}\\right](x-x_0)^{k-1}\n",
    "$$\n",
    "\n",
    "De aquí obtengo las dos siguientes relaciones\n",
    "\n",
    "$$S_{[k]}=\\frac{1}{k}\\sum_{j=0}^k jg_{[j]}C_{[k-j]}=\\frac{1}{k}\\sum_{j=0}^k (k-j)g_{[k-j]}C_{[j]}\\hspace{2cm}\n",
    "C_{[k]}=-\\frac{1}{k}\\sum_{j=0}^k jg_{[j]}S_{[k-j]}=-\\frac{1}{k}\\sum_{j=0}^k (k-j)g_{[k-j]}S_{[j]}$$\n",
    "\n",
    "Con las condiciones iniciales \n",
    "$$S_{[0]}=\\sin(g(x_0))\\hspace{2cm}C_{[0]}=\\cos(g(x_0))$$"
   ]
  },
  {
   "cell_type": "markdown",
   "metadata": {},
   "source": [
    "Para el caso concreto $g(x) = x$ alrededor de $x_0=2\\pi$, donde tenemos $g_{[j]} = \\delta_{j,1}$, obtenemos\n",
    "\n",
    "$$S_{[0]}=0 \\hspace{2cm}C_{[0]}=1$$\n",
    "$$S_{[1]}=C_{[0]}=1 \\hspace{2cm}C_{[1]}=-S_{[0]}=0$$\n",
    "$$S_{[2]}=C_{[1]}=0 \\hspace{2cm}C_{[2]}=-S_{[1]}=-1$$\n",
    "$$S_{[3]}=C_{[2]}=-1 \\hspace{2cm}C_{[3]}=-S_{[2]}=0$$\n",
    "$$S_{[4]}=C_{[3]}=0 \\hspace{2cm}C_{[4]}=-S_{[3]}=1$$\n",
    "\n",
    "$$S_{[2k+1]}=\\frac{1}{2k+1}C_{[2k]}=-\\frac{1}{2k+1}\\frac{1}{2k}S_{[2k-1]}=\\dots=\\frac{1}{k!}C_{[0]}=\\frac{1}{k!}\\hspace{2cm}\n",
    "C_{[2k]}=-\\frac{1}{2k}S_{[2k-1]}=-\\frac{1}{k(k-1)}C_{[k-2]}=\\dots=\\frac{1}{k!}C_{[0]}=\\frac{1}{k!}$$\n",
    "\n",
    "\n",
    "que es el resultado bien conocido."
   ]
  },
  {
   "cell_type": "code",
   "execution_count": null,
   "metadata": {
    "collapsed": true
   },
   "outputs": [],
   "source": []
  }
 ],
 "metadata": {
  "kernelspec": {
   "display_name": "Julia 0.5.0",
   "language": "julia",
   "name": "julia-0.5"
  },
  "language_info": {
   "file_extension": ".jl",
   "mimetype": "application/julia",
   "name": "julia",
   "version": "0.5.1"
  }
 },
 "nbformat": 4,
 "nbformat_minor": 2
}
