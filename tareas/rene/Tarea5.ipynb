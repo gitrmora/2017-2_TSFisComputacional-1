{
 "cells": [
  {
   "cell_type": "markdown",
   "metadata": {},
   "source": [
    "# Tarea5: Series de Taylor"
   ]
  },
  {
   "cell_type": "markdown",
   "metadata": {},
   "source": [
    "Fecha de envío del PR inicial: **viernes 21 de abril**\n",
    "\n",
    "Fecha de aceptación del PR: **martes 25 de abril, antes de la clase**"
   ]
  },
  {
   "cell_type": "markdown",
   "metadata": {},
   "source": [
    "---"
   ]
  },
  {
   "cell_type": "markdown",
   "metadata": {},
   "source": [
    "## Ejercicio 1\n",
    "\n",
    "Implementen una nueva estructura paramétrica (`type`) que defina el tipo `Taylor`, donde el parámetro debe ser un subtipo de `Number`. Definan métodos que implementen las operaciones aritméticas básicas (`+`, `-`, `*`, `/`) y la igualdad (`==`). Esto deberá ser incluido en un módulo.\n",
    "\n",
    "Incluyan pruebas (en el archivo \"runtests_taylor.jl\") para cada uno de los métodos que implementen.\n"
   ]
  },
  {
   "cell_type": "code",
   "execution_count": 4,
   "metadata": {
    "collapsed": false
   },
   "outputs": [
    {
     "name": "stderr",
     "output_type": "stream",
     "text": [
      "WARNING: Method definition (::Type{Main.Taylor})(Any, Any) in module Main at In[4]:10 overwritten at In[4]:12.\n"
     ]
    },
    {
     "data": {
      "text/plain": [
       "Taylor{T<:Number}"
      ]
     },
     "execution_count": 4,
     "metadata": {},
     "output_type": "execute_result"
    }
   ],
   "source": [
    "workspace()\n",
    "\"\"\"\n",
    "Definición de polinomios de Taylor, donde\n",
    "...\n",
    "\"\"\"\n",
    "type Taylor{T<:Number}\n",
    "    v::Array{T,1}\n",
    "    n::Int\n",
    "end\n",
    "Taylor(v,n) = Taylor(promote(v,n)...)\n",
    "function Taylor(n,v)\n",
    "    a=[i=zero(Number) for i=1:n]\n",
    "    for i in 1:n\n",
    "        a[i]=v[i]\n",
    "    end\n",
    "    return Taylor(a,n)\n",
    "end"
   ]
  },
  {
   "cell_type": "code",
   "execution_count": 5,
   "metadata": {
    "collapsed": false
   },
   "outputs": [
    {
     "ename": "LoadError",
     "evalue": "InexactError()",
     "output_type": "error",
     "traceback": [
      "InexactError()",
      "",
      " in Taylor{T<:Number}(::Int64, ::Array{Float64,1}) at ./In[4]:14"
     ]
    }
   ],
   "source": [
    "n=7\n",
    "v=[i=rand() for i=1:n]\n",
    "c=[i=rand() for i=1:n]\n",
    "Taylor(6,c)\n"
   ]
  },
  {
   "cell_type": "code",
   "execution_count": 8,
   "metadata": {
    "collapsed": false
   },
   "outputs": [
    {
     "data": {
      "text/plain": [
       "* (generic function with 151 methods)"
      ]
     },
     "execution_count": 8,
     "metadata": {},
     "output_type": "execute_result"
    }
   ],
   "source": [
    "workspace()\n",
    "\"\"\"\n",
    "Definición de polinomios de Taylor, donde\n",
    "...\n",
    "\"\"\"\n",
    "type Taylor{T<:Number}\n",
    "    n::Int\n",
    "    v::Array{T,1} \n",
    "end\n",
    "Taylor(n,v) = Taylor(promote(n,v)...)\n",
    "function Taylor(n)\n",
    "    a=[i=zero(eltype(Number)) for i=1:n]\n",
    "    for i in 1:n\n",
    "        a[i]=a[i]\n",
    "    end\n",
    "    return Taylor(n,a)\n",
    "end\n",
    "import Base: +, -, *, /, ==\n",
    "+(a::Taylor,b::Taylor)=Taylor(a.n,a.v+b.v)\n",
    "-(a::Taylor,b::Taylor)=Taylor(a.n,a.v-b.v)\n",
    "\n",
    "        \n",
    "*(a::Taylor,b::Taylor)=Taylor(a.n,[i=a.v[i]*b.v[a.n+1-i] for i=1:a.n])\n",
    "#*(a::Taylor,b::Taylor)=Taylor(a.n,[i=1/b[1](a[a.n]*c[a.n+1-i]) for i=1:a.n])\n",
    "#Taylor(x0)=Taylor(x0,v)"
   ]
  },
  {
   "cell_type": "code",
   "execution_count": 9,
   "metadata": {
    "collapsed": false
   },
   "outputs": [
    {
     "data": {
      "text/plain": [
       "Taylor{Float64}(7,[0.682382,0.411359,0.112189,0.273427,0.122888,0.247852,0.0139054])"
      ]
     },
     "execution_count": 9,
     "metadata": {},
     "output_type": "execute_result"
    }
   ],
   "source": [
    "n=7\n",
    "v=[i=rand() for i=1:n]\n",
    "c=[i=rand() for i=1:n]\n",
    "Taylor(6,c)\n",
    "Taylor(length(v),v)*Taylor(length(v),c)"
   ]
  },
  {
   "cell_type": "code",
   "execution_count": 10,
   "metadata": {
    "collapsed": false
   },
   "outputs": [
    {
     "data": {
      "text/plain": [
       "(Taylor{Int64}(3,[3,4,3]),Taylor{Int64}(3,[2,4,6]))"
      ]
     },
     "execution_count": 10,
     "metadata": {},
     "output_type": "execute_result"
    }
   ],
   "source": [
    "v=[1,2,3]\n",
    "c=[1,2,3]\n",
    "Taylor(length(v),v)*Taylor(length(v),c),Taylor(length(v),v)+Taylor(length(v),c)\n"
   ]
  },
  {
   "cell_type": "markdown",
   "metadata": {},
   "source": [
    "\\begin{eqnarray}\n",
    "(f+g)_{[k]} & = & f_{[k]} + g_{[k]} ,\\\\\n",
    "(f-g)_{[k]} & = & f_{[k]} - g_{[k]} ,\\\\\n",
    "(f \\cdot g)_{[k]} & = & \\sum_{i=0}^k f_{[i]} \\,g_{[k-i]} \\, ,\\\\\n",
    "\\Big(\\frac{f}{g}\\Big)_{[k]} & = & \\frac{1}{g_{[0]}}\n",
    "\\Big( f_{[k]} - \\sum_{i=0}^{k-1} \\big(\\frac{f}{g}\\big)_{[i]} \\, g_{[k-i]} \\Big) . \\\\\n",
    "\\end{eqnarray}"
   ]
  },
  {
   "cell_type": "code",
   "execution_count": 18,
   "metadata": {
    "collapsed": false
   },
   "outputs": [
    {
     "data": {
      "text/plain": [
       "Taylor{Int64}(1,[1,2,3])"
      ]
     },
     "execution_count": 18,
     "metadata": {},
     "output_type": "execute_result"
    }
   ],
   "source": [
    "Taylor(1)"
   ]
  },
  {
   "cell_type": "code",
   "execution_count": null,
   "metadata": {
    "collapsed": true
   },
   "outputs": [],
   "source": [
    "import Base: +, -, *, /, ==\n",
    "\n",
    "# Aqui se implementan los métodos necesarios para cada función\n"
   ]
  },
  {
   "cell_type": "code",
   "execution_count": null,
   "metadata": {
    "collapsed": true
   },
   "outputs": [],
   "source": [
    "# Muestren que su código funciona con tests adecuados\n",
    "\n",
    "using Base.Test\n",
    "include(\"runtest_taylor.jl\")"
   ]
  },
  {
   "cell_type": "markdown",
   "metadata": {},
   "source": [
    "---"
   ]
  },
  {
   "cell_type": "markdown",
   "metadata": {},
   "source": [
    "## Ejercicio 2\n",
    "\n",
    "Obtengan las relaciones de recurrencia para las funciones $L(x) = \\log\\big(g(x)\\big)$, $P_\\alpha(x) = \\big(g(x)\\big)^\\alpha$, $S(x) = \\sin\\big(g(x)\\big)$, $C(x) = \\cos\\big(g(x)\\big)$ usando el mismo procedimiento que arriba. Implementen métodos adecuados para estas funciones en el módulo, actuando sobre estructuras `Taylor` e incluyan pruebas necesarias en `runtest_taylor.jl`."
   ]
  },
  {
   "cell_type": "markdown",
   "metadata": {
    "collapsed": true
   },
   "source": [
    "**Para el logaritmo** (ver pág. 251 cálculo Schaum)\n",
    "\n",
    "$$\\displaystyle{L(x)=\\log(g(x))= \\sum_{k=0}^\\infty L_{[k]} (x-x_0)^k}\\hspace{2cm}g(x)=\\sum_{k=0}^\\infty g_{[k]} (x-x_0)^k$$\n",
    "\n",
    "$$\\frac{dL(x)}{dx}=\\sum_{k=0}^\\infty kL_{[k]} (x-x_0)^{k-1}\\hspace{2cm}\n",
    "\\frac{dg(x)}{dx}=\\sum_{k=0}^\\infty kg_{[k]} (x-x_0)^{k-1}$$\n",
    "$$\\frac{dL(x)}{dx}=\\frac{d\\log(g(x))}{dx}=\\frac{1}{g(x)}\\frac{dg(x)}{dx}$$"
   ]
  },
  {
   "cell_type": "markdown",
   "metadata": {},
   "source": [
    "$$g(x)\\frac{dL(x)}{dx}=\\frac{dg(x)}{dx}$$"
   ]
  },
  {
   "cell_type": "markdown",
   "metadata": {
    "collapsed": true
   },
   "source": [
    "Entonces\n",
    "$$\\sum_{k=0}^\\infty g_{[k]} (x-x_0)^k\\sum_{j=0}^\\infty jL_{[j]} (x-x_0)^{j-1}=\\sum_{k=0}^\\infty kg_{[k]} (x-x_0)^{k-1}$$\n",
    "\n"
   ]
  },
  {
   "cell_type": "markdown",
   "metadata": {},
   "source": [
    "$$\\left[\\sum_{k=0}^\\infty kL_{[k]} (x-x_0)^{k-1}\\right]\\left[\\sum_{j=0}^\\infty g_{[j]} (x-x_0)^j\\right]=\\sum_{k=0}^\\infty kg_{[k]} (x-x_0)^{k-1}$$"
   ]
  },
  {
   "cell_type": "markdown",
   "metadata": {},
   "source": [
    "$$\\sum_{k=1}^\\infty\\left[\\sum_{j=0}^k(k-j)L_{[k-j]}g_{[j]} \\right] (x-x_0)^{k-1}=\\sum_{k=0}^\\infty kg_{[k]} (x-x_0)^{k-1}$$"
   ]
  },
  {
   "cell_type": "markdown",
   "metadata": {
    "collapsed": true
   },
   "source": [
    "$$\\sum_{k=1}^\\infty\\left[\\sum_{j=0}^kjL_{[j]}g_{[k-j]} \\right] (x-x_0)^{k-1}=\\sum_{k=0}^\\infty kg_{[k]} (x-x_0)^{k-1}$$"
   ]
  },
  {
   "cell_type": "markdown",
   "metadata": {},
   "source": [
    "$$\\sum_{j=0}^kjL_{[j]}g_{[k-j]}=kg_{[k]}$$"
   ]
  },
  {
   "cell_type": "markdown",
   "metadata": {},
   "source": [
    "$$kL_{[k]}g_{[0]}+\\sum_{j=0}^{k-1}jL_{[j]}g_{[k-j]}=kg_{[k]}$$"
   ]
  },
  {
   "cell_type": "markdown",
   "metadata": {},
   "source": [
    "$$L_{[k]}=\\frac{1}{g_{[0]}}\\left[g_{[k]}-\\frac{1}{k}\\sum_{j=0}^{k-1}jL_{[j]}g_{[k-j]}\\right]$$"
   ]
  },
  {
   "cell_type": "code",
   "execution_count": null,
   "metadata": {
    "collapsed": true
   },
   "outputs": [],
   "source": []
  },
  {
   "cell_type": "code",
   "execution_count": null,
   "metadata": {
    "collapsed": true
   },
   "outputs": [],
   "source": []
  },
  {
   "cell_type": "markdown",
   "metadata": {},
   "source": [
    "**Para la función $P_\\alpha(x)=(g(x))^\\alpha$** \n",
    "\n",
    "$$\\displaystyle{P_\\alpha(x)=(g(x))^\\alpha= \\sum_{k=0}^\\infty {P_\\alpha}_{[k]} (x-x_0)^k}\\hspace{2cm}g(x)=\\sum_{k=0}^\\infty g_{[k]} (x-x_0)^k$$\n",
    "\n",
    "$$\\frac{dP_\\alpha(x)}{dx}=\\sum_{k=0}^\\infty k{P_\\alpha}_{[k]} (x-x_0)^{k-1}\\hspace{2cm}\n",
    "\\frac{dg(x)}{dx}=\\sum_{k=0}^\\infty kg_{[k]} (x-x_0)^{k-1}$$\n",
    "$$\\frac{d(g(x))^\\alpha}{dx}=\\alpha (g(x))^{\\alpha-1}\\frac{dg(x)}{dx}=\\alpha \\frac{(g(x))^{\\alpha}}{g(x)}\\frac{dg(x)}{dx}$$\n",
    "\n",
    "Por una parte\n",
    "$$\\frac{d(g(x))^\\alpha}{dx}=\\alpha \\frac{\\sum_{k=0}^\\infty {P_\\alpha}_{[k]} (x-x_0)^k}\n",
    "{\\sum_{j=0}^\\infty g_{[j]} (x-x_0)^j}\\sum_{i=0}^\\infty ig_{[i]} (x-x_0)^{i-1}$$\n",
    "\n",
    "$$\\sum_{k=0}^\\infty k{P_\\alpha}_{[k]} (x-x_0)^{k-1}=\\alpha \\frac{\\sum_{k=0}^\\infty {P_\\alpha}_{[k]} (x-x_0)^k}\n",
    "{\\sum_{j=0}^\\infty g_{[j]} (x-x_0)^j}\\sum_{i=0}^\\infty ig_{[i]} (x-x_0)^{i-1}$$"
   ]
  },
  {
   "cell_type": "code",
   "execution_count": null,
   "metadata": {
    "collapsed": true
   },
   "outputs": [],
   "source": []
  },
  {
   "cell_type": "markdown",
   "metadata": {},
   "source": [
    "**Para la función $S(x)=\\sin(g(x))$ y $C(x) = \\cos(g(x))$** \n",
    "\n",
    "$$S(x)=sin(g(x))= \\sum_{k=0}^\\infty {S}_{[k]} (x-x_0)^k\\hspace{2cm}C(x) = \\cos(g(x))=\\sum_{k=0}^\\infty C_{[k]} (x-x_0)^k$$\n",
    "\n",
    "$$\\frac{dS(x)}{dx}=\\sum_{k=0}^\\infty k{S}_{[k]} (x-x_0)^{k-1}\\hspace{2cm}\n",
    "\\frac{dC(x)}{dx}=\\sum_{k=0}^\\infty k{C}_{[k]} (x-x_0)^{k-1}$$\n",
    "$$\\frac{dS(x)}{dx}=\\cos(g(x))\\frac{dg(x)}{dx}=C(x)\\frac{dg(x)}{dx}\\hspace{2cm}\n",
    "\\frac{dC(x)}{dx}=-\\sin(g(x))\\frac{dg(x)}{dx}=-S(x)\\frac{dg(x)}{dx}$$\n",
    "\n",
    "Igualando las últimas 4 expresiones\n",
    "$$\\frac{dS(x)}{dx}=\\sum_{k=0}^\\infty k{S}_{[k]} (x-x_0)^{k-1}=\n",
    "\\sum_{k=0}^\\infty C_{[k]} (x-x_0)^k\\sum_{j=0}^\\infty jg_{[j]} (x-x_0)^{j-1}=\n",
    "\\sum_{k=1}^\\infty \\left[\\sum_{j=0}^k jg_{[j]}C_{[k-j]}\\right](x-x_0)^{k-1}\n",
    "$$\n",
    "$$\\frac{dC(x)}{dx}=\\sum_{k=0}^\\infty k{C}_{[k]} (x-x_0)^{k-1}=\n",
    "-\\sum_{k=0}^\\infty S_{[k]} (x-x_0)^k\\sum_{j=0}^\\infty jg_{[j]} (x-x_0)^{j-1}=\n",
    "-\\sum_{k=1}^\\infty \\left[\\sum_{j=0}^k jg_{[j]}S_{[k-j]}\\right](x-x_0)^{k-1}\n",
    "$$\n",
    "\n",
    "De aquí obtengo las dos siguientes relaciones\n",
    "\n",
    "$$S_{[k]}=\\frac{1}{k}\\sum_{j=0}^k jg_{[j]}C_{[k-j]}=\\frac{1}{k}\\sum_{j=0}^k (k-j)g_{[k-j]}C_{[j]}\\hspace{2cm}\n",
    "C_{[k]}=-\\frac{1}{k}\\sum_{j=0}^k jg_{[j]}S_{[k-j]}=-\\frac{1}{k}\\sum_{j=0}^k (k-j)g_{[k-j]}S_{[j]}$$\n",
    "\n",
    "Con las condiciones iniciales \n",
    "$$S_{[0]}=\\sin(g(x_0))\\hspace{2cm}C_{[0]}=\\cos(g(x_0))$$\n",
    "\n",
    "Para el caso concreto $g(x) = x$ alrededor de $x_0=0$, donde tenemos $g_{[j]} = \\delta_{j,1}$, obtenemos\n",
    "\n",
    "$$S_{[0]}=0 \\hspace{2cm}C_{[0]}=1$$\n",
    "$$S_{[1]}=C_{[0]}=1 \\hspace{2cm}C_{[1]}=-S_{[0]}=0$$\n",
    "\n",
    "$$S_{[k]}=\\frac{1}{k}C_{[k-1]}=\\frac{1(-1)}{k(k-1)}S_{[k-2]}=\\frac{1(-1)(1)}{k(k-1)(k-2)}C_{[k-3]}=\n",
    "\\frac{1(-1)(1)(-1)}{k(k-1)(k-2)(k-3)}S_{[k-4]}=\\dots$$$$\n",
    "C_{[k]}=\\frac{-1}{k}S_{[k-1]}=\\frac{(-1)(1)}{k(k-1)}C_{[k-2]}=\\frac{(-1)(1)(-1)}{k(k-1)(k-2)}S_{[k-3]}=\n",
    "\\frac{(-1)(1)(-1)(1)}{k(k-1)(k-2)(k-3)}C_{[k-4]}=\\dots$$\n",
    "\n",
    "$$S_{[k]}=\\frac{(-1)}{k(k-1)}S_{[k-2]}=\\frac{(-1)^2}{k(k-1)(k-2)(k-3)}S_{[k-4]}=\n",
    "\\frac{(-1)^3}{k(k-1)(k-2)(k-3)(k-4)(k-5)}S_{[k-6]}=\\dots$$$$\n",
    "C_{[k]}=\\frac{(-1)}{k(k-1)}C_{[k-2]}=\\frac{(-1)^2}{k(k-1)(k-2)(k-3)}C_{[k-4]}=\n",
    "\\frac{(-1)^3}{k(k-1)(k-2)(k-3)(k-4)(k-5)}C_{[k-6]}=\\dots$$\n",
    "\n",
    "$$S_{[k]}=\\frac{(-1)^{j/2}(k-j)!}{k!}S_{[k-j]}\\hspace{2cm}C_{[k]}=\\frac{(-1)^{j/2}(k-j)!}{k!}C_{[k-j]}$$\n",
    "\n",
    "Para que $S_{[k]}$ no sea nulo $k>2$ y debe ser un número impar $k=2n+1$. De la misma menera para que $C_{[k]}$ no sea nulo $k\\geq2$ y debe ser un número par $k=2n$. Entonces\n",
    "\n",
    "$$S_{[2n+1]}=\\frac{(-1)^{j/2}((2n+1)-j)!}{(2n+1)!}S_{[(2n+1)-j]}\\hspace{2cm}C_{[2n]}=\\frac{(-1)^{j/2}((2n)-j)!}{(2n)!}C_{[(2n)-j]}$$\n",
    "\n",
    "Para los coeficientes del seno si $2n+1-j=1$ $\\Rightarrow j=2n$. En los coeficientes del coseno si $2n-j=0$ $\\Rightarrow j=2n$. De esta manera\n",
    "\n",
    "$$S_{[2n+1]}=\\frac{(-1)^{n}}{(2n+1)!}S_{[1]}=\\frac{(-1)^{n}}{(2n+1)!}C_{[0]}=\\frac{(-1)^{n}}{(2n+1)!}\\hspace{2cm}C_{[2n]}=\\frac{(-1)^{n}}{(2n)!}C_{[0]}=\\frac{(-1)^{n}}{(2n)!}$$\n",
    "\n",
    "Por lo tanto\n",
    "$$S(x)=\\sin(x)=\\sum_{n=0}^\\infty \\frac{(-1)^{n}}{(2n+1)!}x^{2n+1}\\hspace{2cm}C(x) = \\cos(x)=\\sum_{n=0}^\\infty \\frac{(-1)^{n}}{(2n)!}x^{2n}$$"
   ]
  },
  {
   "cell_type": "code",
   "execution_count": null,
   "metadata": {
    "collapsed": true
   },
   "outputs": [],
   "source": []
  }
 ],
 "metadata": {
  "kernelspec": {
   "display_name": "Julia 0.5.0",
   "language": "julia",
   "name": "julia-0.5"
  },
  "language_info": {
   "file_extension": ".jl",
   "mimetype": "application/julia",
   "name": "julia",
   "version": "0.5.1"
  }
 },
 "nbformat": 4,
 "nbformat_minor": 2
}
